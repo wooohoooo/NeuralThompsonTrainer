{
 "cells": [
  {
   "cell_type": "code",
   "execution_count": 10,
   "metadata": {},
   "outputs": [],
   "source": [
    "# default_exp neural_networks"
   ]
  },
  {
   "cell_type": "markdown",
   "metadata": {},
   "source": [
    "# neural_networks\n",
    "> neural Networks. Duh."
   ]
  },
  {
   "cell_type": "code",
   "execution_count": 13,
   "metadata": {
    "tags": []
   },
   "outputs": [],
   "source": [
    "#export \n",
    "\n",
    "import matplotlib.pyplot as plt\n",
    "import numpy as np"
   ]
  },
  {
   "cell_type": "code",
   "execution_count": 16,
   "metadata": {},
   "outputs": [],
   "source": [
    "#export\n",
    "\n",
    "# from https://github.com/dennisbakhuis/Tutorials/blob/master/Neural_Network/Artificial_Neural_Network.ipynb\n",
    "class ActivationDoesNotExist(Exception):\n",
    "    \"\"\"Valid activations are sigmoid, tanh, and relu, provided as a string\"\"\"\n",
    "    pass\n",
    "\n",
    "class InputDimensionNotCorrect(Exception):\n",
    "    \"\"\"Need to specify input dimension, i.e. input shape into the first layer\"\"\"\n",
    "    pass\n",
    "\n",
    "class LossFunctionNotDefined(Exception):\n",
    "    \"\"\"Loss function in cost() method not defined\"\"\"\n",
    "    pass\n",
    "\n",
    "\n",
    "class DenseLayer:\n",
    "    \"\"\"\n",
    "    A class to define fully connected layers.\n",
    "    \"\"\"\n",
    "    \n",
    "    def __init__(self, inputDimension, units, activation='', randomMultiplier=0.01):\n",
    "        \"\"\"\n",
    "        Constructor:\n",
    "          inputDimension: number of input features\n",
    "          units: number of neurons in the layer\n",
    "          activation: activation function applied to layer\n",
    "            - options: 'sigmoid', 'tanh', 'relu', ''\n",
    "          randomMultiplier: multiplier applied to the random weights during initialization\n",
    "        \"\"\"\n",
    "        self.weights, self.bias = self.initialize(inputDimension, units, randomMultiplier)\n",
    "        if activation == 'sigmoid':\n",
    "            self.activation = activation\n",
    "            self.activationForward = self.sigmoid\n",
    "            self.activationBackward = self.sigmoidGrad\n",
    "        elif activation == 'relu':\n",
    "            self.activation = activation\n",
    "            self.activationForward = self.relu\n",
    "            self.activationBackward = self.reluGrad\n",
    "        elif activation == 'tanh':\n",
    "            self.activation = activation\n",
    "            self.activationForward = self.tanh\n",
    "            self.activationBackward = self.tanhGrad\n",
    "        elif activation != '':\n",
    "            raise ActivationDoesNotExist\n",
    "        else:\n",
    "            self.activation = 'none'\n",
    "            self.activationForward = self.linear\n",
    "            self.activationBackward = self.linear\n",
    "    \n",
    "    def initialize(self, nx, nh, randomMultiplier):\n",
    "        \"\"\"\n",
    "        Initializes weights randomly:\n",
    "          nx: number of input features\n",
    "          nh: number of units\n",
    "          randomMultiplier: multiplier applied to the random weights during initialization\n",
    "        returns:\n",
    "          weights: the randomly initialized weights\n",
    "          bias: the bias terms\n",
    "        \"\"\"\n",
    "        weights = randomMultiplier * np.random.randn(nh, nx)\n",
    "        bias = np.zeros([nh, 1])\n",
    "        return weights, bias\n",
    "\n",
    "    \n",
    "    def sigmoid(self, Z):\n",
    "        \"\"\"\n",
    "        Sigmoid activation function\n",
    "        \"\"\"\n",
    "        A = 1 / (1 + np.exp(-Z))\n",
    "        return A\n",
    "        \n",
    "    def sigmoidGrad(self, dA):\n",
    "        \"\"\"\n",
    "        Differential of sigmoid function with chain rule applied\n",
    "        \"\"\"\n",
    "        s = 1 / (1 + np.exp(-self.prevZ))\n",
    "        dZ = dA * s * (1 - s)\n",
    "        return dZ\n",
    "    \n",
    "    \n",
    "    def relu(self, Z):\n",
    "        \"\"\"\n",
    "        Relu activation function\n",
    "        \"\"\"\n",
    "        A = np.maximum(0, Z)\n",
    "        return A\n",
    "        \n",
    "    def reluGrad(self, dA):\n",
    "        \"\"\"\n",
    "        Differential of relu function with chain rule applied\n",
    "        \"\"\"\n",
    "        s = np.maximum(0, self.prevZ)\n",
    "        dZ = (s>0) * 1 * dA\n",
    "        return dZ \n",
    "\n",
    "        \n",
    "    def tanh(self, Z):\n",
    "        \"\"\"\n",
    "        Tanh activation function\n",
    "        \"\"\"\n",
    "        A = np.tanh(Z)\n",
    "        return A\n",
    "\n",
    "    def tanhGrad(self, dA):\n",
    "        \"\"\"\n",
    "        Differential of tanh function with chain rule applied\n",
    "        \"\"\"\n",
    "        s = np.tanh(self.prevZ)\n",
    "        dZ = (1 - s**2) * dA\n",
    "        return dZ\n",
    "\n",
    "\n",
    "    def linear(self, Z):\n",
    "        \"\"\"\n",
    "        Placeholder when no activation function is used\n",
    "        \"\"\"\n",
    "        return Z\n",
    "        \n",
    "    \n",
    "    def forward(self, A):\n",
    "        \"\"\"\n",
    "        Forward pass through layer\n",
    "          A: input vector\n",
    "        \"\"\"\n",
    "        Z = np.dot(self.weights, A) + self.bias\n",
    "        self.prevZ = Z\n",
    "        self.prevA = A\n",
    "        A = self.activationForward(Z)\n",
    "        return A\n",
    "    \n",
    "    \n",
    "    def backward(self, dA):\n",
    "        \"\"\"\n",
    "        Backward pass through layer\n",
    "          dA: previous gradient\n",
    "        \"\"\"\n",
    "        dZ = self.activationBackward(dA)\n",
    "        m = self.prevA.shape[1]\n",
    "        self.dW = 1 / m * np.dot(dZ, self.prevA.T)\n",
    "        self.db = 1 / m * np.sum(dZ, axis=1, keepdims=True)\n",
    "        prevdA = np.dot(self.weights.T, dZ)\n",
    "        return prevdA\n",
    "    \n",
    "    \n",
    "    def update(self, learning_rate):\n",
    "        \"\"\"\n",
    "        Update weights using gradients from backward pass\n",
    "          learning_rate: the learning rate used in the gradient descent\n",
    "        \"\"\"\n",
    "        self.weights = self.weights - learning_rate * self.dW\n",
    "        self.bias = self.bias - learning_rate * self.db\n",
    "\n",
    "        \n",
    "    def outputDimension(self):\n",
    "        \"\"\"\n",
    "        Returns the output dimension for the next layer\n",
    "        \"\"\"\n",
    "        return len(self.bias)\n",
    "\n",
    "    \n",
    "    def __repr__(self):\n",
    "        \"\"\"\n",
    "        Used to print a pretty summary of the layer\n",
    "        \"\"\"\n",
    "        act = 'none' if self.activation == '' else self.activation\n",
    "        return f'Dense layer (nx={self.weights.shape[1]}, nh={self.weights.shape[0]}, activation={act})'\n",
    "\n",
    "\n",
    "class NeuralNetwork:\n",
    "    \"\"\"\n",
    "    Neural Network structure that holds our layers\n",
    "    \"\"\"\n",
    "    \n",
    "    def __init__(self, loss='cross-entropy', randomMultiplier = 0.01):\n",
    "        \"\"\"\n",
    "        Constructor:\n",
    "          loss: the loss function. Two are defined:\n",
    "             - 'cross-entropy' and 'mean-square-error'\n",
    "          randomMultiplier: multiplier applied to the random weights during initialization\n",
    "        \"\"\"\n",
    "        self.layers=[]\n",
    "        self.randomMultiplier = randomMultiplier\n",
    "        if loss=='cross-entropy':\n",
    "            self.lossFunction = self.crossEntropyLoss\n",
    "            self.lossBackward = self.crossEntropyLossGrad\n",
    "        elif loss=='mean-square-error':\n",
    "            self.lossFunction = self.meanSquareError\n",
    "            self.lossBackward = self.meanSquareErrorGrad\n",
    "        else:\n",
    "            raise LossFunctionNotDefined\n",
    "        self.loss=loss\n",
    "\n",
    "\n",
    "    def addLayer(self, inputDimension=None, units=1, activation='', layer_type = DenseLayer):\n",
    "        \"\"\"\n",
    "        Adds a Dense layer to the network:\n",
    "          inputDimension: required when it is the first layer. otherwise takes dimensions of previous layer.\n",
    "          units: number of neurons in the layer\n",
    "          activation: activation function: valid choices are: 'sigmoid', 'tanh', 'relu', ''\n",
    "        \"\"\"\n",
    "        if (inputDimension is None):\n",
    "            if (len(self.layers)==0):\n",
    "                raise InputDimensionNotCorrect\n",
    "            inputDimension=self.layers[-1].outputDimension()\n",
    "        layer = layer_type(inputDimension, units, activation, randomMultiplier= self.randomMultiplier)\n",
    "        self.layers.append(layer)\n",
    "\n",
    "    def crossEntropyLoss(self, Y, A, epsilon=1e-15):\n",
    "        \"\"\"\n",
    "        Cross Entropy loss function\n",
    "          Y: true labels\n",
    "          A: final activation function (predicted labels)\n",
    "          epsilon: small value to make minimize chance for log(0) error\n",
    "        \"\"\"\n",
    "        m = Y.shape[1]\n",
    "        loss = -1 * (Y * np.log(A + epsilon) + (1 - Y) * np.log(1 - A + epsilon))\n",
    "        cost = 1 / m * np.sum(loss)\n",
    "        return np.squeeze(cost)\n",
    "            \n",
    "    def crossEntropyLossGrad(self, Y, A):\n",
    "        \"\"\"\n",
    "        Cross Entropy loss Gradient\n",
    "          Y: true labels\n",
    "          A: final activation function (predicted labels)\n",
    "        \"\"\"\n",
    "        dA = -(np.divide(Y, A) - np.divide(1 - Y, 1 - A))\n",
    "        return dA\n",
    "    \n",
    "    \n",
    "    def meanSquareError(self, Y, A):\n",
    "        \"\"\"\n",
    "        Mean square error loss function\n",
    "          Y: true labels\n",
    "          A: final activation function (predicted labels)\n",
    "        \"\"\"\n",
    "        loss = np.square(Y - A)\n",
    "        m = Y.shape[1]\n",
    "        cost = 1 / m * np.sum(loss)\n",
    "        return np.squeeze(cost)\n",
    "    \n",
    "    def meanSquareErrorGrad(self, Y, A):\n",
    "        \"\"\"\n",
    "        Mean square error loss gradient\n",
    "          Y: true labels\n",
    "          A: final activation function (predicted labels)\n",
    "        \"\"\"\n",
    "        dA = -2 * (Y - A)\n",
    "        return dA\n",
    "\n",
    "    \n",
    "    def cost(self, Y, A):\n",
    "        \"\"\"\n",
    "        Cost function wrapper\n",
    "          Y: true labels\n",
    "          A: final activation function (predicted labels)\n",
    "        \"\"\"\n",
    "        return self.lossFunction(Y, A)\n",
    "\n",
    "        \n",
    "    def forward(self, X, attention=None):\n",
    "        \"\"\"\n",
    "        Forward pass through the whole model.\n",
    "          X: input vector\n",
    "        \"\"\"\n",
    "        x = np.copy(X)\n",
    "        for layer in self.layers:\n",
    "            if 'Attention' in str(layer.__repr__):       \n",
    "                x = layer.forward(x, attention)\n",
    "                \n",
    "            else:\n",
    "                x = layer.forward(x)\n",
    "\n",
    "        return x\n",
    "            \n",
    "    \n",
    "    def backward(self, A, Y):\n",
    "        \"\"\"\n",
    "        backward pass through the whole model\n",
    "          Y: true labels\n",
    "          A: final activation function (predicted labels)\n",
    "        \"\"\"\n",
    "        dA = self.lossBackward(Y, A)\n",
    "        for layer in reversed(self.layers):\n",
    "            dA = layer.backward(dA)\n",
    "    \n",
    "    \n",
    "    def update(self, learning_rate=0.01):\n",
    "        \"\"\"\n",
    "        Update weights and do a step of gradient descent for the whole model.\n",
    "          learning_rate: learning_rate to use\n",
    "        \"\"\"\n",
    "        for layer in self.layers:\n",
    "            layer.update(learning_rate)\n",
    "    \n",
    "    \n",
    "    def __repr__(self):\n",
    "        \"\"\"\n",
    "        Pretty print the model\n",
    "        \"\"\"\n",
    "        layrepr = ['  ' + str(ix+1)+' -> ' + str(x) for ix, x in enumerate(self.layers)]\n",
    "        return '[\\n' + '\\n'.join(layrepr) + '\\n]'\n",
    "   \n",
    "    \n",
    "    def numberOfParameters(self):\n",
    "        \"\"\"\n",
    "        Print number of trainable parameters in the model\n",
    "        \"\"\"\n",
    "        n = 0\n",
    "        for layer in self.layers:\n",
    "            n += np.size(layer.weights) + len(layer.bias)\n",
    "        print(f'There are {n} trainable parameters in the model.')\n",
    "        \n",
    "        \n",
    "        \n",
    "        \n",
    "        \n",
    "  "
   ]
  },
  {
   "cell_type": "code",
   "execution_count": 19,
   "metadata": {},
   "outputs": [
    {
     "output_type": "execute_result",
     "data": {
      "text/plain": "((1, 100), (1, 100))"
     },
     "metadata": {},
     "execution_count": 19
    }
   ],
   "source": [
    "num_features = 1\n",
    "num_observations = 100\n",
    "\n",
    "X = np.atleast_2d(np.linspace(-1,1,100)).T\n",
    "\n",
    "y = np.atleast_2d((np.sin(X.squeeze()*3) + np.random.normal(0,.1,100))).T\n",
    "X = X.reshape([num_features,num_observations])\n",
    "\n",
    "y = y.reshape([1,num_observations])\n",
    "\n",
    "X.shape, y.shape"
   ]
  },
  {
   "cell_type": "code",
   "execution_count": 22,
   "metadata": {
    "tags": []
   },
   "outputs": [
    {
     "output_type": "stream",
     "name": "stdout",
     "text": "cost: 0.5282743006708959\ncost: 0.186493188241823\ncost: 0.17525196771707335\ncost: 0.1528910425797881\ncost: 0.12320026575163537\ncost: 0.09531194915729736\ncost: 0.06972132899439348\ncost: 0.04874500512453071\ncost: 0.035783552821035416\ncost: 0.02949306059591546\n"
    }
   ],
   "source": [
    "\n",
    "model = NeuralNetwork(loss='mean-square-error')\n",
    "model.addLayer(inputDimension=1, units=10, activation='tanh')\n",
    "\n",
    "model.addLayer(units=1, activation='')\n",
    "model\n",
    "\n",
    "\n",
    "num_iterations = 10000\n",
    "for ix in range(num_iterations):\n",
    "    A = model.forward(X)\n",
    "    model.backward(A, y)\n",
    "    model.update()\n",
    "    if ix % 1000 == 0:\n",
    "        print('cost:', model.cost(y, A))"
   ]
  },
  {
   "cell_type": "code",
   "execution_count": 25,
   "metadata": {},
   "outputs": [
    {
     "output_type": "execute_result",
     "data": {
      "text/plain": "<matplotlib.legend.Legend at 0x7f6f78303210>"
     },
     "metadata": {},
     "execution_count": 25
    },
    {
     "output_type": "display_data",
     "data": {
      "text/plain": "<Figure size 432x288 with 1 Axes>",
      "image/svg+xml": "<?xml version=\"1.0\" encoding=\"utf-8\" standalone=\"no\"?>\n<!DOCTYPE svg PUBLIC \"-//W3C//DTD SVG 1.1//EN\"\n  \"http://www.w3.org/Graphics/SVG/1.1/DTD/svg11.dtd\">\n<!-- Created with matplotlib (https://matplotlib.org/) -->\n<svg height=\"248.518125pt\" version=\"1.1\" viewBox=\"0 0 380.482812 248.518125\" width=\"380.482812pt\" xmlns=\"http://www.w3.org/2000/svg\" xmlns:xlink=\"http://www.w3.org/1999/xlink\">\n <defs>\n  <style type=\"text/css\">\n*{stroke-linecap:butt;stroke-linejoin:round;}\n  </style>\n </defs>\n <g id=\"figure_1\">\n  <g id=\"patch_1\">\n   <path d=\"M -0 248.518125 \nL 380.482812 248.518125 \nL 380.482812 0 \nL -0 0 \nz\n\" style=\"fill:none;\"/>\n  </g>\n  <g id=\"axes_1\">\n   <g id=\"patch_2\">\n    <path d=\"M 38.482813 224.64 \nL 373.282813 224.64 \nL 373.282813 7.2 \nL 38.482813 7.2 \nz\n\" style=\"fill:#ffffff;\"/>\n   </g>\n   <g id=\"matplotlib.axis_1\">\n    <g id=\"xtick_1\">\n     <g id=\"line2d_1\">\n      <defs>\n       <path d=\"M 0 0 \nL 0 3.5 \n\" id=\"me422fc26d4\" style=\"stroke:#000000;stroke-width:0.8;\"/>\n      </defs>\n      <g>\n       <use style=\"stroke:#000000;stroke-width:0.8;\" x=\"53.700994\" xlink:href=\"#me422fc26d4\" y=\"224.64\"/>\n      </g>\n     </g>\n     <g id=\"text_1\">\n      <!-- 0 -->\n      <defs>\n       <path d=\"M 31.78125 66.40625 \nQ 24.171875 66.40625 20.328125 58.90625 \nQ 16.5 51.421875 16.5 36.375 \nQ 16.5 21.390625 20.328125 13.890625 \nQ 24.171875 6.390625 31.78125 6.390625 \nQ 39.453125 6.390625 43.28125 13.890625 \nQ 47.125 21.390625 47.125 36.375 \nQ 47.125 51.421875 43.28125 58.90625 \nQ 39.453125 66.40625 31.78125 66.40625 \nz\nM 31.78125 74.21875 \nQ 44.046875 74.21875 50.515625 64.515625 \nQ 56.984375 54.828125 56.984375 36.375 \nQ 56.984375 17.96875 50.515625 8.265625 \nQ 44.046875 -1.421875 31.78125 -1.421875 \nQ 19.53125 -1.421875 13.0625 8.265625 \nQ 6.59375 17.96875 6.59375 36.375 \nQ 6.59375 54.828125 13.0625 64.515625 \nQ 19.53125 74.21875 31.78125 74.21875 \nz\n\" id=\"DejaVuSans-48\"/>\n      </defs>\n      <g transform=\"translate(50.519744 239.238437)scale(0.1 -0.1)\">\n       <use xlink:href=\"#DejaVuSans-48\"/>\n      </g>\n     </g>\n    </g>\n    <g id=\"xtick_2\">\n     <g id=\"line2d_2\">\n      <g>\n       <use style=\"stroke:#000000;stroke-width:0.8;\" x=\"115.188598\" xlink:href=\"#me422fc26d4\" y=\"224.64\"/>\n      </g>\n     </g>\n     <g id=\"text_2\">\n      <!-- 20 -->\n      <defs>\n       <path d=\"M 19.1875 8.296875 \nL 53.609375 8.296875 \nL 53.609375 0 \nL 7.328125 0 \nL 7.328125 8.296875 \nQ 12.9375 14.109375 22.625 23.890625 \nQ 32.328125 33.6875 34.8125 36.53125 \nQ 39.546875 41.84375 41.421875 45.53125 \nQ 43.3125 49.21875 43.3125 52.78125 \nQ 43.3125 58.59375 39.234375 62.25 \nQ 35.15625 65.921875 28.609375 65.921875 \nQ 23.96875 65.921875 18.8125 64.3125 \nQ 13.671875 62.703125 7.8125 59.421875 \nL 7.8125 69.390625 \nQ 13.765625 71.78125 18.9375 73 \nQ 24.125 74.21875 28.421875 74.21875 \nQ 39.75 74.21875 46.484375 68.546875 \nQ 53.21875 62.890625 53.21875 53.421875 \nQ 53.21875 48.921875 51.53125 44.890625 \nQ 49.859375 40.875 45.40625 35.40625 \nQ 44.1875 33.984375 37.640625 27.21875 \nQ 31.109375 20.453125 19.1875 8.296875 \nz\n\" id=\"DejaVuSans-50\"/>\n      </defs>\n      <g transform=\"translate(108.826098 239.238437)scale(0.1 -0.1)\">\n       <use xlink:href=\"#DejaVuSans-50\"/>\n       <use x=\"63.623047\" xlink:href=\"#DejaVuSans-48\"/>\n      </g>\n     </g>\n    </g>\n    <g id=\"xtick_3\">\n     <g id=\"line2d_3\">\n      <g>\n       <use style=\"stroke:#000000;stroke-width:0.8;\" x=\"176.676201\" xlink:href=\"#me422fc26d4\" y=\"224.64\"/>\n      </g>\n     </g>\n     <g id=\"text_3\">\n      <!-- 40 -->\n      <defs>\n       <path d=\"M 37.796875 64.3125 \nL 12.890625 25.390625 \nL 37.796875 25.390625 \nz\nM 35.203125 72.90625 \nL 47.609375 72.90625 \nL 47.609375 25.390625 \nL 58.015625 25.390625 \nL 58.015625 17.1875 \nL 47.609375 17.1875 \nL 47.609375 0 \nL 37.796875 0 \nL 37.796875 17.1875 \nL 4.890625 17.1875 \nL 4.890625 26.703125 \nz\n\" id=\"DejaVuSans-52\"/>\n      </defs>\n      <g transform=\"translate(170.313701 239.238437)scale(0.1 -0.1)\">\n       <use xlink:href=\"#DejaVuSans-52\"/>\n       <use x=\"63.623047\" xlink:href=\"#DejaVuSans-48\"/>\n      </g>\n     </g>\n    </g>\n    <g id=\"xtick_4\">\n     <g id=\"line2d_4\">\n      <g>\n       <use style=\"stroke:#000000;stroke-width:0.8;\" x=\"238.163804\" xlink:href=\"#me422fc26d4\" y=\"224.64\"/>\n      </g>\n     </g>\n     <g id=\"text_4\">\n      <!-- 60 -->\n      <defs>\n       <path d=\"M 33.015625 40.375 \nQ 26.375 40.375 22.484375 35.828125 \nQ 18.609375 31.296875 18.609375 23.390625 \nQ 18.609375 15.53125 22.484375 10.953125 \nQ 26.375 6.390625 33.015625 6.390625 \nQ 39.65625 6.390625 43.53125 10.953125 \nQ 47.40625 15.53125 47.40625 23.390625 \nQ 47.40625 31.296875 43.53125 35.828125 \nQ 39.65625 40.375 33.015625 40.375 \nz\nM 52.59375 71.296875 \nL 52.59375 62.3125 \nQ 48.875 64.0625 45.09375 64.984375 \nQ 41.3125 65.921875 37.59375 65.921875 \nQ 27.828125 65.921875 22.671875 59.328125 \nQ 17.53125 52.734375 16.796875 39.40625 \nQ 19.671875 43.65625 24.015625 45.921875 \nQ 28.375 48.1875 33.59375 48.1875 \nQ 44.578125 48.1875 50.953125 41.515625 \nQ 57.328125 34.859375 57.328125 23.390625 \nQ 57.328125 12.15625 50.6875 5.359375 \nQ 44.046875 -1.421875 33.015625 -1.421875 \nQ 20.359375 -1.421875 13.671875 8.265625 \nQ 6.984375 17.96875 6.984375 36.375 \nQ 6.984375 53.65625 15.1875 63.9375 \nQ 23.390625 74.21875 37.203125 74.21875 \nQ 40.921875 74.21875 44.703125 73.484375 \nQ 48.484375 72.75 52.59375 71.296875 \nz\n\" id=\"DejaVuSans-54\"/>\n      </defs>\n      <g transform=\"translate(231.801304 239.238437)scale(0.1 -0.1)\">\n       <use xlink:href=\"#DejaVuSans-54\"/>\n       <use x=\"63.623047\" xlink:href=\"#DejaVuSans-48\"/>\n      </g>\n     </g>\n    </g>\n    <g id=\"xtick_5\">\n     <g id=\"line2d_5\">\n      <g>\n       <use style=\"stroke:#000000;stroke-width:0.8;\" x=\"299.651408\" xlink:href=\"#me422fc26d4\" y=\"224.64\"/>\n      </g>\n     </g>\n     <g id=\"text_5\">\n      <!-- 80 -->\n      <defs>\n       <path d=\"M 31.78125 34.625 \nQ 24.75 34.625 20.71875 30.859375 \nQ 16.703125 27.09375 16.703125 20.515625 \nQ 16.703125 13.921875 20.71875 10.15625 \nQ 24.75 6.390625 31.78125 6.390625 \nQ 38.8125 6.390625 42.859375 10.171875 \nQ 46.921875 13.96875 46.921875 20.515625 \nQ 46.921875 27.09375 42.890625 30.859375 \nQ 38.875 34.625 31.78125 34.625 \nz\nM 21.921875 38.8125 \nQ 15.578125 40.375 12.03125 44.71875 \nQ 8.5 49.078125 8.5 55.328125 \nQ 8.5 64.0625 14.71875 69.140625 \nQ 20.953125 74.21875 31.78125 74.21875 \nQ 42.671875 74.21875 48.875 69.140625 \nQ 55.078125 64.0625 55.078125 55.328125 \nQ 55.078125 49.078125 51.53125 44.71875 \nQ 48 40.375 41.703125 38.8125 \nQ 48.828125 37.15625 52.796875 32.3125 \nQ 56.78125 27.484375 56.78125 20.515625 \nQ 56.78125 9.90625 50.3125 4.234375 \nQ 43.84375 -1.421875 31.78125 -1.421875 \nQ 19.734375 -1.421875 13.25 4.234375 \nQ 6.78125 9.90625 6.78125 20.515625 \nQ 6.78125 27.484375 10.78125 32.3125 \nQ 14.796875 37.15625 21.921875 38.8125 \nz\nM 18.3125 54.390625 \nQ 18.3125 48.734375 21.84375 45.5625 \nQ 25.390625 42.390625 31.78125 42.390625 \nQ 38.140625 42.390625 41.71875 45.5625 \nQ 45.3125 48.734375 45.3125 54.390625 \nQ 45.3125 60.0625 41.71875 63.234375 \nQ 38.140625 66.40625 31.78125 66.40625 \nQ 25.390625 66.40625 21.84375 63.234375 \nQ 18.3125 60.0625 18.3125 54.390625 \nz\n\" id=\"DejaVuSans-56\"/>\n      </defs>\n      <g transform=\"translate(293.288908 239.238437)scale(0.1 -0.1)\">\n       <use xlink:href=\"#DejaVuSans-56\"/>\n       <use x=\"63.623047\" xlink:href=\"#DejaVuSans-48\"/>\n      </g>\n     </g>\n    </g>\n    <g id=\"xtick_6\">\n     <g id=\"line2d_6\">\n      <g>\n       <use style=\"stroke:#000000;stroke-width:0.8;\" x=\"361.139011\" xlink:href=\"#me422fc26d4\" y=\"224.64\"/>\n      </g>\n     </g>\n     <g id=\"text_6\">\n      <!-- 100 -->\n      <defs>\n       <path d=\"M 12.40625 8.296875 \nL 28.515625 8.296875 \nL 28.515625 63.921875 \nL 10.984375 60.40625 \nL 10.984375 69.390625 \nL 28.421875 72.90625 \nL 38.28125 72.90625 \nL 38.28125 8.296875 \nL 54.390625 8.296875 \nL 54.390625 0 \nL 12.40625 0 \nz\n\" id=\"DejaVuSans-49\"/>\n      </defs>\n      <g transform=\"translate(351.595261 239.238437)scale(0.1 -0.1)\">\n       <use xlink:href=\"#DejaVuSans-49\"/>\n       <use x=\"63.623047\" xlink:href=\"#DejaVuSans-48\"/>\n       <use x=\"127.246094\" xlink:href=\"#DejaVuSans-48\"/>\n      </g>\n     </g>\n    </g>\n   </g>\n   <g id=\"matplotlib.axis_2\">\n    <g id=\"ytick_1\">\n     <g id=\"line2d_7\">\n      <defs>\n       <path d=\"M 0 0 \nL -3.5 0 \n\" id=\"m046f299727\" style=\"stroke:#000000;stroke-width:0.8;\"/>\n      </defs>\n      <g>\n       <use style=\"stroke:#000000;stroke-width:0.8;\" x=\"38.482813\" xlink:href=\"#m046f299727\" y=\"203.090863\"/>\n      </g>\n     </g>\n     <g id=\"text_7\">\n      <!-- −1.0 -->\n      <defs>\n       <path d=\"M 10.59375 35.5 \nL 73.1875 35.5 \nL 73.1875 27.203125 \nL 10.59375 27.203125 \nz\n\" id=\"DejaVuSans-8722\"/>\n       <path d=\"M 10.6875 12.40625 \nL 21 12.40625 \nL 21 0 \nL 10.6875 0 \nz\n\" id=\"DejaVuSans-46\"/>\n      </defs>\n      <g transform=\"translate(7.2 206.890081)scale(0.1 -0.1)\">\n       <use xlink:href=\"#DejaVuSans-8722\"/>\n       <use x=\"83.789062\" xlink:href=\"#DejaVuSans-49\"/>\n       <use x=\"147.412109\" xlink:href=\"#DejaVuSans-46\"/>\n       <use x=\"179.199219\" xlink:href=\"#DejaVuSans-48\"/>\n      </g>\n     </g>\n    </g>\n    <g id=\"ytick_2\">\n     <g id=\"line2d_8\">\n      <g>\n       <use style=\"stroke:#000000;stroke-width:0.8;\" x=\"38.482813\" xlink:href=\"#m046f299727\" y=\"158.563188\"/>\n      </g>\n     </g>\n     <g id=\"text_8\">\n      <!-- −0.5 -->\n      <defs>\n       <path d=\"M 10.796875 72.90625 \nL 49.515625 72.90625 \nL 49.515625 64.59375 \nL 19.828125 64.59375 \nL 19.828125 46.734375 \nQ 21.96875 47.46875 24.109375 47.828125 \nQ 26.265625 48.1875 28.421875 48.1875 \nQ 40.625 48.1875 47.75 41.5 \nQ 54.890625 34.8125 54.890625 23.390625 \nQ 54.890625 11.625 47.5625 5.09375 \nQ 40.234375 -1.421875 26.90625 -1.421875 \nQ 22.3125 -1.421875 17.546875 -0.640625 \nQ 12.796875 0.140625 7.71875 1.703125 \nL 7.71875 11.625 \nQ 12.109375 9.234375 16.796875 8.0625 \nQ 21.484375 6.890625 26.703125 6.890625 \nQ 35.15625 6.890625 40.078125 11.328125 \nQ 45.015625 15.765625 45.015625 23.390625 \nQ 45.015625 31 40.078125 35.4375 \nQ 35.15625 39.890625 26.703125 39.890625 \nQ 22.75 39.890625 18.8125 39.015625 \nQ 14.890625 38.140625 10.796875 36.28125 \nz\n\" id=\"DejaVuSans-53\"/>\n      </defs>\n      <g transform=\"translate(7.2 162.362406)scale(0.1 -0.1)\">\n       <use xlink:href=\"#DejaVuSans-8722\"/>\n       <use x=\"83.789062\" xlink:href=\"#DejaVuSans-48\"/>\n       <use x=\"147.412109\" xlink:href=\"#DejaVuSans-46\"/>\n       <use x=\"179.199219\" xlink:href=\"#DejaVuSans-53\"/>\n      </g>\n     </g>\n    </g>\n    <g id=\"ytick_3\">\n     <g id=\"line2d_9\">\n      <g>\n       <use style=\"stroke:#000000;stroke-width:0.8;\" x=\"38.482813\" xlink:href=\"#m046f299727\" y=\"114.035513\"/>\n      </g>\n     </g>\n     <g id=\"text_9\">\n      <!-- 0.0 -->\n      <g transform=\"translate(15.579688 117.834732)scale(0.1 -0.1)\">\n       <use xlink:href=\"#DejaVuSans-48\"/>\n       <use x=\"63.623047\" xlink:href=\"#DejaVuSans-46\"/>\n       <use x=\"95.410156\" xlink:href=\"#DejaVuSans-48\"/>\n      </g>\n     </g>\n    </g>\n    <g id=\"ytick_4\">\n     <g id=\"line2d_10\">\n      <g>\n       <use style=\"stroke:#000000;stroke-width:0.8;\" x=\"38.482813\" xlink:href=\"#m046f299727\" y=\"69.507838\"/>\n      </g>\n     </g>\n     <g id=\"text_10\">\n      <!-- 0.5 -->\n      <g transform=\"translate(15.579688 73.307057)scale(0.1 -0.1)\">\n       <use xlink:href=\"#DejaVuSans-48\"/>\n       <use x=\"63.623047\" xlink:href=\"#DejaVuSans-46\"/>\n       <use x=\"95.410156\" xlink:href=\"#DejaVuSans-53\"/>\n      </g>\n     </g>\n    </g>\n    <g id=\"ytick_5\">\n     <g id=\"line2d_11\">\n      <g>\n       <use style=\"stroke:#000000;stroke-width:0.8;\" x=\"38.482813\" xlink:href=\"#m046f299727\" y=\"24.980163\"/>\n      </g>\n     </g>\n     <g id=\"text_11\">\n      <!-- 1.0 -->\n      <g transform=\"translate(15.579688 28.779382)scale(0.1 -0.1)\">\n       <use xlink:href=\"#DejaVuSans-49\"/>\n       <use x=\"63.623047\" xlink:href=\"#DejaVuSans-46\"/>\n       <use x=\"95.410156\" xlink:href=\"#DejaVuSans-48\"/>\n      </g>\n     </g>\n    </g>\n   </g>\n   <g id=\"line2d_12\">\n    <path clip-path=\"url(#p9254ee2aa5)\" d=\"M 53.700994 153.971207 \nL 56.775374 155.643096 \nL 59.849755 157.330937 \nL 62.924135 159.033405 \nL 65.998515 160.748978 \nL 69.072895 162.475914 \nL 72.147275 164.212225 \nL 75.221655 165.955646 \nL 78.296036 167.703602 \nL 81.370416 169.453172 \nL 84.444796 171.201046 \nL 87.519176 172.94348 \nL 90.593556 174.676248 \nL 93.667936 176.394581 \nL 96.742317 178.09311 \nL 99.816697 179.765801 \nL 102.891077 181.405876 \nL 105.965457 183.005743 \nL 109.039837 184.556908 \nL 112.114217 186.049892 \nL 115.188598 187.474136 \nL 118.262978 188.817914 \nL 121.337358 190.068237 \nL 124.411738 191.21077 \nL 127.486118 192.229752 \nL 130.560498 193.107926 \nL 133.634879 193.826499 \nL 136.709259 194.365124 \nL 139.783639 194.70192 \nL 142.858019 194.813549 \nL 145.932399 194.675349 \nL 149.006779 194.261555 \nL 152.08116 193.545609 \nL 155.15554 192.500579 \nL 158.22992 191.099714 \nL 161.3043 189.317118 \nL 164.37868 187.128578 \nL 167.45306 184.51252 \nL 170.527441 181.451092 \nL 173.601821 177.931339 \nL 176.676201 173.946418 \nL 179.750581 169.496799 \nL 182.824961 164.591373 \nL 185.899341 159.24836 \nL 188.973722 153.495937 \nL 192.048102 147.372474 \nL 195.122482 140.926315 \nL 198.196862 134.215047 \nL 201.271242 127.304242 \nL 204.345622 120.265715 \nL 207.420003 113.175388 \nL 210.494383 106.110869 \nL 213.568763 99.148929 \nL 216.643143 92.363025 \nL 219.717523 85.821055 \nL 222.791903 79.583467 \nL 225.866284 73.701835 \nL 228.940664 68.217947 \nL 232.015044 63.163415 \nL 235.089424 58.559767 \nL 238.163804 54.418954 \nL 241.238184 50.744171 \nL 244.312565 47.530912 \nL 247.386945 44.768144 \nL 250.461325 42.439532 \nL 253.535705 40.524628 \nL 256.610085 38.999993 \nL 259.684465 37.840196 \nL 262.758846 37.018685 \nL 265.833226 36.508518 \nL 268.907606 36.282951 \nL 271.981986 36.315905 \nL 275.056366 36.582313 \nL 278.130746 37.058363 \nL 281.205127 37.721667 \nL 284.279507 38.551348 \nL 287.353887 39.528082 \nL 290.428267 40.634092 \nL 293.502647 41.853112 \nL 296.577027 43.170327 \nL 299.651408 44.572297 \nL 302.725788 46.046874 \nL 305.800168 47.583111 \nL 308.874548 49.171166 \nL 311.948928 50.802218 \nL 315.023308 52.468375 \nL 318.097689 54.162586 \nL 321.172069 55.878571 \nL 324.246449 57.610736 \nL 327.320829 59.354115 \nL 330.395209 61.104298 \nL 333.469589 62.85738 \nL 336.54397 64.609906 \nL 339.61835 66.358823 \nL 342.69273 68.10144 \nL 345.76711 69.835388 \nL 348.84149 71.558584 \nL 351.91587 73.269204 \nL 354.990251 74.96565 \nL 358.064631 76.64653 \n\" style=\"fill:none;stroke:#1f77b4;stroke-linecap:square;stroke-width:1.5;\"/>\n   </g>\n   <g id=\"line2d_13\">\n    <path clip-path=\"url(#p9254ee2aa5)\" d=\"M 53.700994 117.372517 \nL 56.775374 127.979687 \nL 59.849755 133.940903 \nL 62.924135 119.835914 \nL 65.998515 145.919157 \nL 69.072895 155.638622 \nL 72.147275 157.868256 \nL 75.221655 161.102918 \nL 78.296036 153.099341 \nL 81.370416 159.912778 \nL 84.444796 187.320689 \nL 87.519176 178.208195 \nL 90.593556 183.718607 \nL 93.667936 181.157731 \nL 96.742317 183.731561 \nL 99.816697 208.267761 \nL 102.891077 204.739976 \nL 105.965457 194.936081 \nL 109.039837 211.218561 \nL 112.114217 200.081927 \nL 115.188598 197.469038 \nL 118.262978 200.555191 \nL 121.337358 210.312955 \nL 124.411738 207.71158 \nL 127.486118 214.756364 \nL 130.560498 209.105207 \nL 133.634879 203.743407 \nL 136.709259 194.346195 \nL 139.783639 191.101097 \nL 142.858019 196.025758 \nL 145.932399 193.393698 \nL 149.006779 200.664623 \nL 152.08116 182.159148 \nL 155.15554 201.353356 \nL 158.22992 194.568697 \nL 161.3043 182.943736 \nL 164.37868 178.131883 \nL 167.45306 175.275131 \nL 170.527441 181.127998 \nL 173.601821 170.894876 \nL 176.676201 156.245387 \nL 179.750581 168.390119 \nL 182.824961 170.695153 \nL 185.899341 148.265971 \nL 188.973722 138.281872 \nL 192.048102 138.368217 \nL 195.122482 132.536066 \nL 198.196862 140.046473 \nL 201.271242 118.191896 \nL 204.345622 116.287152 \nL 207.420003 110.360448 \nL 210.494383 127.607593 \nL 213.568763 92.742669 \nL 216.643143 102.765565 \nL 219.717523 95.749108 \nL 222.791903 71.220757 \nL 225.866284 82.661178 \nL 228.940664 86.939369 \nL 232.015044 73.877557 \nL 235.089424 66.236269 \nL 238.163804 58.969685 \nL 241.238184 59.309367 \nL 244.312565 61.828896 \nL 247.386945 56.721225 \nL 250.461325 50.108678 \nL 253.535705 34.754732 \nL 256.610085 26.061091 \nL 259.684465 24.201908 \nL 262.758846 30.044223 \nL 265.833226 31.756169 \nL 268.907606 38.515499 \nL 271.981986 28.411457 \nL 275.056366 21.807591 \nL 278.130746 29.224731 \nL 281.205127 29.027969 \nL 284.279507 20.514086 \nL 287.353887 26.817614 \nL 290.428267 17.083636 \nL 293.502647 28.924635 \nL 296.577027 26.203755 \nL 299.651408 37.390233 \nL 302.725788 34.301572 \nL 305.800168 34.076853 \nL 308.874548 24.581038 \nL 311.948928 58.86218 \nL 315.023308 44.399722 \nL 318.097689 42.091705 \nL 321.172069 44.714939 \nL 324.246449 49.670875 \nL 327.320829 55.391291 \nL 330.395209 70.641219 \nL 333.469589 47.866565 \nL 336.54397 74.794663 \nL 339.61835 86.381906 \nL 342.69273 75.762142 \nL 345.76711 90.921075 \nL 348.84149 99.763937 \nL 351.91587 97.350366 \nL 354.990251 110.765223 \nL 358.064631 99.245741 \n\" style=\"fill:none;stroke:#ff7f0e;stroke-linecap:square;stroke-width:1.5;\"/>\n   </g>\n   <g id=\"patch_3\">\n    <path d=\"M 38.482813 224.64 \nL 38.482813 7.2 \n\" style=\"fill:none;stroke:#000000;stroke-linecap:square;stroke-linejoin:miter;stroke-width:0.8;\"/>\n   </g>\n   <g id=\"patch_4\">\n    <path d=\"M 373.282813 224.64 \nL 373.282813 7.2 \n\" style=\"fill:none;stroke:#000000;stroke-linecap:square;stroke-linejoin:miter;stroke-width:0.8;\"/>\n   </g>\n   <g id=\"patch_5\">\n    <path d=\"M 38.482813 224.64 \nL 373.282812 224.64 \n\" style=\"fill:none;stroke:#000000;stroke-linecap:square;stroke-linejoin:miter;stroke-width:0.8;\"/>\n   </g>\n   <g id=\"patch_6\">\n    <path d=\"M 38.482813 7.2 \nL 373.282812 7.2 \n\" style=\"fill:none;stroke:#000000;stroke-linecap:square;stroke-linejoin:miter;stroke-width:0.8;\"/>\n   </g>\n   <g id=\"legend_1\">\n    <g id=\"patch_7\">\n     <path d=\"M 45.482813 44.55625 \nL 127.871875 44.55625 \nQ 129.871875 44.55625 129.871875 42.55625 \nL 129.871875 14.2 \nQ 129.871875 12.2 127.871875 12.2 \nL 45.482813 12.2 \nQ 43.482813 12.2 43.482813 14.2 \nL 43.482813 42.55625 \nQ 43.482813 44.55625 45.482813 44.55625 \nz\n\" style=\"fill:#ffffff;opacity:0.8;stroke:#cccccc;stroke-linejoin:miter;\"/>\n    </g>\n    <g id=\"line2d_14\">\n     <path d=\"M 47.482813 20.298437 \nL 67.482812 20.298437 \n\" style=\"fill:none;stroke:#1f77b4;stroke-linecap:square;stroke-width:1.5;\"/>\n    </g>\n    <g id=\"line2d_15\"/>\n    <g id=\"text_12\">\n     <!-- prediction -->\n     <defs>\n      <path d=\"M 18.109375 8.203125 \nL 18.109375 -20.796875 \nL 9.078125 -20.796875 \nL 9.078125 54.6875 \nL 18.109375 54.6875 \nL 18.109375 46.390625 \nQ 20.953125 51.265625 25.265625 53.625 \nQ 29.59375 56 35.59375 56 \nQ 45.5625 56 51.78125 48.09375 \nQ 58.015625 40.1875 58.015625 27.296875 \nQ 58.015625 14.40625 51.78125 6.484375 \nQ 45.5625 -1.421875 35.59375 -1.421875 \nQ 29.59375 -1.421875 25.265625 0.953125 \nQ 20.953125 3.328125 18.109375 8.203125 \nz\nM 48.6875 27.296875 \nQ 48.6875 37.203125 44.609375 42.84375 \nQ 40.53125 48.484375 33.40625 48.484375 \nQ 26.265625 48.484375 22.1875 42.84375 \nQ 18.109375 37.203125 18.109375 27.296875 \nQ 18.109375 17.390625 22.1875 11.75 \nQ 26.265625 6.109375 33.40625 6.109375 \nQ 40.53125 6.109375 44.609375 11.75 \nQ 48.6875 17.390625 48.6875 27.296875 \nz\n\" id=\"DejaVuSans-112\"/>\n      <path d=\"M 41.109375 46.296875 \nQ 39.59375 47.171875 37.8125 47.578125 \nQ 36.03125 48 33.890625 48 \nQ 26.265625 48 22.1875 43.046875 \nQ 18.109375 38.09375 18.109375 28.8125 \nL 18.109375 0 \nL 9.078125 0 \nL 9.078125 54.6875 \nL 18.109375 54.6875 \nL 18.109375 46.1875 \nQ 20.953125 51.171875 25.484375 53.578125 \nQ 30.03125 56 36.53125 56 \nQ 37.453125 56 38.578125 55.875 \nQ 39.703125 55.765625 41.0625 55.515625 \nz\n\" id=\"DejaVuSans-114\"/>\n      <path d=\"M 56.203125 29.59375 \nL 56.203125 25.203125 \nL 14.890625 25.203125 \nQ 15.484375 15.921875 20.484375 11.0625 \nQ 25.484375 6.203125 34.421875 6.203125 \nQ 39.59375 6.203125 44.453125 7.46875 \nQ 49.3125 8.734375 54.109375 11.28125 \nL 54.109375 2.78125 \nQ 49.265625 0.734375 44.1875 -0.34375 \nQ 39.109375 -1.421875 33.890625 -1.421875 \nQ 20.796875 -1.421875 13.15625 6.1875 \nQ 5.515625 13.8125 5.515625 26.8125 \nQ 5.515625 40.234375 12.765625 48.109375 \nQ 20.015625 56 32.328125 56 \nQ 43.359375 56 49.78125 48.890625 \nQ 56.203125 41.796875 56.203125 29.59375 \nz\nM 47.21875 32.234375 \nQ 47.125 39.59375 43.09375 43.984375 \nQ 39.0625 48.390625 32.421875 48.390625 \nQ 24.90625 48.390625 20.390625 44.140625 \nQ 15.875 39.890625 15.1875 32.171875 \nz\n\" id=\"DejaVuSans-101\"/>\n      <path d=\"M 45.40625 46.390625 \nL 45.40625 75.984375 \nL 54.390625 75.984375 \nL 54.390625 0 \nL 45.40625 0 \nL 45.40625 8.203125 \nQ 42.578125 3.328125 38.25 0.953125 \nQ 33.9375 -1.421875 27.875 -1.421875 \nQ 17.96875 -1.421875 11.734375 6.484375 \nQ 5.515625 14.40625 5.515625 27.296875 \nQ 5.515625 40.1875 11.734375 48.09375 \nQ 17.96875 56 27.875 56 \nQ 33.9375 56 38.25 53.625 \nQ 42.578125 51.265625 45.40625 46.390625 \nz\nM 14.796875 27.296875 \nQ 14.796875 17.390625 18.875 11.75 \nQ 22.953125 6.109375 30.078125 6.109375 \nQ 37.203125 6.109375 41.296875 11.75 \nQ 45.40625 17.390625 45.40625 27.296875 \nQ 45.40625 37.203125 41.296875 42.84375 \nQ 37.203125 48.484375 30.078125 48.484375 \nQ 22.953125 48.484375 18.875 42.84375 \nQ 14.796875 37.203125 14.796875 27.296875 \nz\n\" id=\"DejaVuSans-100\"/>\n      <path d=\"M 9.421875 54.6875 \nL 18.40625 54.6875 \nL 18.40625 0 \nL 9.421875 0 \nz\nM 9.421875 75.984375 \nL 18.40625 75.984375 \nL 18.40625 64.59375 \nL 9.421875 64.59375 \nz\n\" id=\"DejaVuSans-105\"/>\n      <path d=\"M 48.78125 52.59375 \nL 48.78125 44.1875 \nQ 44.96875 46.296875 41.140625 47.34375 \nQ 37.3125 48.390625 33.40625 48.390625 \nQ 24.65625 48.390625 19.8125 42.84375 \nQ 14.984375 37.3125 14.984375 27.296875 \nQ 14.984375 17.28125 19.8125 11.734375 \nQ 24.65625 6.203125 33.40625 6.203125 \nQ 37.3125 6.203125 41.140625 7.25 \nQ 44.96875 8.296875 48.78125 10.40625 \nL 48.78125 2.09375 \nQ 45.015625 0.34375 40.984375 -0.53125 \nQ 36.96875 -1.421875 32.421875 -1.421875 \nQ 20.0625 -1.421875 12.78125 6.34375 \nQ 5.515625 14.109375 5.515625 27.296875 \nQ 5.515625 40.671875 12.859375 48.328125 \nQ 20.21875 56 33.015625 56 \nQ 37.15625 56 41.109375 55.140625 \nQ 45.0625 54.296875 48.78125 52.59375 \nz\n\" id=\"DejaVuSans-99\"/>\n      <path d=\"M 18.3125 70.21875 \nL 18.3125 54.6875 \nL 36.8125 54.6875 \nL 36.8125 47.703125 \nL 18.3125 47.703125 \nL 18.3125 18.015625 \nQ 18.3125 11.328125 20.140625 9.421875 \nQ 21.96875 7.515625 27.59375 7.515625 \nL 36.8125 7.515625 \nL 36.8125 0 \nL 27.59375 0 \nQ 17.1875 0 13.234375 3.875 \nQ 9.28125 7.765625 9.28125 18.015625 \nL 9.28125 47.703125 \nL 2.6875 47.703125 \nL 2.6875 54.6875 \nL 9.28125 54.6875 \nL 9.28125 70.21875 \nz\n\" id=\"DejaVuSans-116\"/>\n      <path d=\"M 30.609375 48.390625 \nQ 23.390625 48.390625 19.1875 42.75 \nQ 14.984375 37.109375 14.984375 27.296875 \nQ 14.984375 17.484375 19.15625 11.84375 \nQ 23.34375 6.203125 30.609375 6.203125 \nQ 37.796875 6.203125 41.984375 11.859375 \nQ 46.1875 17.53125 46.1875 27.296875 \nQ 46.1875 37.015625 41.984375 42.703125 \nQ 37.796875 48.390625 30.609375 48.390625 \nz\nM 30.609375 56 \nQ 42.328125 56 49.015625 48.375 \nQ 55.71875 40.765625 55.71875 27.296875 \nQ 55.71875 13.875 49.015625 6.21875 \nQ 42.328125 -1.421875 30.609375 -1.421875 \nQ 18.84375 -1.421875 12.171875 6.21875 \nQ 5.515625 13.875 5.515625 27.296875 \nQ 5.515625 40.765625 12.171875 48.375 \nQ 18.84375 56 30.609375 56 \nz\n\" id=\"DejaVuSans-111\"/>\n      <path d=\"M 54.890625 33.015625 \nL 54.890625 0 \nL 45.90625 0 \nL 45.90625 32.71875 \nQ 45.90625 40.484375 42.875 44.328125 \nQ 39.84375 48.1875 33.796875 48.1875 \nQ 26.515625 48.1875 22.3125 43.546875 \nQ 18.109375 38.921875 18.109375 30.90625 \nL 18.109375 0 \nL 9.078125 0 \nL 9.078125 54.6875 \nL 18.109375 54.6875 \nL 18.109375 46.1875 \nQ 21.34375 51.125 25.703125 53.5625 \nQ 30.078125 56 35.796875 56 \nQ 45.21875 56 50.046875 50.171875 \nQ 54.890625 44.34375 54.890625 33.015625 \nz\n\" id=\"DejaVuSans-110\"/>\n     </defs>\n     <g transform=\"translate(75.482812 23.798437)scale(0.1 -0.1)\">\n      <use xlink:href=\"#DejaVuSans-112\"/>\n      <use x=\"63.476562\" xlink:href=\"#DejaVuSans-114\"/>\n      <use x=\"104.558594\" xlink:href=\"#DejaVuSans-101\"/>\n      <use x=\"166.082031\" xlink:href=\"#DejaVuSans-100\"/>\n      <use x=\"229.558594\" xlink:href=\"#DejaVuSans-105\"/>\n      <use x=\"257.341797\" xlink:href=\"#DejaVuSans-99\"/>\n      <use x=\"312.322266\" xlink:href=\"#DejaVuSans-116\"/>\n      <use x=\"351.53125\" xlink:href=\"#DejaVuSans-105\"/>\n      <use x=\"379.314453\" xlink:href=\"#DejaVuSans-111\"/>\n      <use x=\"440.496094\" xlink:href=\"#DejaVuSans-110\"/>\n     </g>\n    </g>\n    <g id=\"line2d_16\">\n     <path d=\"M 47.482813 34.976562 \nL 67.482812 34.976562 \n\" style=\"fill:none;stroke:#ff7f0e;stroke-linecap:square;stroke-width:1.5;\"/>\n    </g>\n    <g id=\"line2d_17\"/>\n    <g id=\"text_13\">\n     <!-- truth -->\n     <defs>\n      <path d=\"M 8.5 21.578125 \nL 8.5 54.6875 \nL 17.484375 54.6875 \nL 17.484375 21.921875 \nQ 17.484375 14.15625 20.5 10.265625 \nQ 23.53125 6.390625 29.59375 6.390625 \nQ 36.859375 6.390625 41.078125 11.03125 \nQ 45.3125 15.671875 45.3125 23.6875 \nL 45.3125 54.6875 \nL 54.296875 54.6875 \nL 54.296875 0 \nL 45.3125 0 \nL 45.3125 8.40625 \nQ 42.046875 3.421875 37.71875 1 \nQ 33.40625 -1.421875 27.6875 -1.421875 \nQ 18.265625 -1.421875 13.375 4.4375 \nQ 8.5 10.296875 8.5 21.578125 \nz\nM 31.109375 56 \nz\n\" id=\"DejaVuSans-117\"/>\n      <path d=\"M 54.890625 33.015625 \nL 54.890625 0 \nL 45.90625 0 \nL 45.90625 32.71875 \nQ 45.90625 40.484375 42.875 44.328125 \nQ 39.84375 48.1875 33.796875 48.1875 \nQ 26.515625 48.1875 22.3125 43.546875 \nQ 18.109375 38.921875 18.109375 30.90625 \nL 18.109375 0 \nL 9.078125 0 \nL 9.078125 75.984375 \nL 18.109375 75.984375 \nL 18.109375 46.1875 \nQ 21.34375 51.125 25.703125 53.5625 \nQ 30.078125 56 35.796875 56 \nQ 45.21875 56 50.046875 50.171875 \nQ 54.890625 44.34375 54.890625 33.015625 \nz\n\" id=\"DejaVuSans-104\"/>\n     </defs>\n     <g transform=\"translate(75.482812 38.476562)scale(0.1 -0.1)\">\n      <use xlink:href=\"#DejaVuSans-116\"/>\n      <use x=\"39.208984\" xlink:href=\"#DejaVuSans-114\"/>\n      <use x=\"80.322266\" xlink:href=\"#DejaVuSans-117\"/>\n      <use x=\"143.701172\" xlink:href=\"#DejaVuSans-116\"/>\n      <use x=\"182.910156\" xlink:href=\"#DejaVuSans-104\"/>\n     </g>\n    </g>\n   </g>\n  </g>\n </g>\n <defs>\n  <clipPath id=\"p9254ee2aa5\">\n   <rect height=\"217.44\" width=\"334.8\" x=\"38.482813\" y=\"7.2\"/>\n  </clipPath>\n </defs>\n</svg>\n",
      "image/png": "[encoded data removed]"
     },
     "metadata": {
      "needs_background": "light"
     }
    }
   ],
   "source": [
    "plt.plot(A.squeeze(),label='prediction')\n",
    "plt.plot(y.squeeze(),label='truth')\n",
    "plt.legend()"
   ]
  },
  {
   "cell_type": "code",
   "execution_count": 28,
   "metadata": {},
   "outputs": [],
   "source": [
    "#export  \n",
    "\n",
    "class DropoutLayer(DenseLayer):\n",
    "\n",
    "    \n",
    "    def forward(self, A):\n",
    "        \"\"\"\n",
    "        Forward pass through layer\n",
    "          A: input vector\n",
    "        \"\"\"\n",
    "        Z = np.dot(self.weights, A) + self.bias\n",
    "        self.prevZ = Z\n",
    "        self.prevA = A\n",
    "        A = self.activationForward(Z)\n",
    "\n",
    "        dropout_percent = 0.5\n",
    "        \n",
    "        \n",
    "        A *= np.random.binomial([np.ones((A.shape))],1-dropout_percent)[0] * (1.0/(1-dropout_percent))\n",
    "\n",
    "        return A\n",
    "    \n",
    "    def __repr__(self):\n",
    "        \"\"\"\n",
    "        Used to print a pretty summary of the layer\n",
    "        \"\"\"\n",
    "        act = 'none' if self.activation == '' else self.activation\n",
    "        return f'Dropout layer (nx={self.weights.shape[1]}, nh={self.weights.shape[0]}, activation={act})'\n",
    "    \n",
    "    \n",
    "    \n",
    "class AttentionDropoutLayer(DenseLayer):\n",
    "\n",
    "    \n",
    "    def forward(self, A, attention):\n",
    "        \"\"\"\n",
    "        Forward pass through layer\n",
    "          A: input vector\n",
    "        \"\"\"\n",
    "        Z = np.dot(self.weights, A) + self.bias\n",
    "        self.prevZ = Z\n",
    "        self.prevA = A\n",
    "        A = self.activationForward(Z)\n",
    "    \n",
    "        dropout_percent = 0.5\n",
    "        \n",
    "        \n",
    "        A *= attention\n",
    "\n",
    "        return A\n",
    "    \n",
    "    def __repr__(self):\n",
    "        \"\"\"\n",
    "        Used to print a pretty summary of the layer\n",
    "        \"\"\"\n",
    "        act = 'none' if self.activation == '' else self.activation\n",
    "        return f'Attention Dropout layer (nx={self.weights.shape[1]}, nh={self.weights.shape[0]}, activation={act})'\n",
    "   \n",
    "    \n",
    "class DropoutLayer(DenseLayer):\n",
    "\n",
    "    \n",
    "    def forward(self, A):\n",
    "        \"\"\"\n",
    "        Forward pass through layer\n",
    "          A: input vector\n",
    "        \"\"\"\n",
    "        dropout_percent = 0.5\n",
    "\n",
    "        dropout_weights = self.weights * np.random.binomial([np.ones((self.weights.shape))],1-dropout_percent)[0] * (1.0/(1-dropout_percent))\n",
    "        Z = np.dot(dropout_weights, A) + self.bias\n",
    "        self.prevZ = Z\n",
    "        self.prevA = A\n",
    "        A = self.activationForward(Z)\n",
    "        \n",
    "        return A\n",
    "    \n",
    "    def __repr__(self):\n",
    "        \"\"\"\n",
    "        Used to print a pretty summary of the layer\n",
    "        \"\"\"\n",
    "        act = 'none' if self.activation == '' else self.activation\n",
    "        return f'Dropout layer (nx={self.weights.shape[1]}, nh={self.weights.shape[0]}, activation={act})'\n",
    "    \n",
    "    \n",
    "class AttentionDropoutLayer(DenseLayer):\n",
    "\n",
    "    \n",
    "    def forward(self, A, attention):\n",
    "        \"\"\"\n",
    "        Forward pass through layer\n",
    "          A: input vector\n",
    "        \"\"\"\n",
    "        \n",
    "        attention_sparsity = np.mean(attention)\n",
    "        weight_scaling = 1\n",
    "        if attention_sparsity !=1:\n",
    "            weight_scaling = (1.0/(1-attention_sparsity))\n",
    "        \n",
    "        attention_weights = self.weights* attention * weight_scaling\n",
    "        Z = np.dot(attention_weights, A) + self.bias\n",
    "        self.prevZ = Z\n",
    "        self.prevA = A\n",
    "        A = self.activationForward(Z)\n",
    "        \n",
    "\n",
    "        return A\n",
    "    \n",
    "    def __repr__(self):\n",
    "        \"\"\"\n",
    "        Used to print a pretty summary of the layer\n",
    "        \"\"\"\n",
    "        act = 'none' if self.activation == '' else self.activation\n",
    "        return f'Attention Dropout layer (nx={self.weights.shape[1]}, nh={self.weights.shape[0]}, activation={act})'\n",
    "\n"
   ]
  },
  {
   "cell_type": "code",
   "execution_count": null,
   "metadata": {},
   "outputs": [],
   "source": []
  },
  {
   "cell_type": "code",
   "execution_count": 31,
   "metadata": {
    "tags": []
   },
   "outputs": [
    {
     "output_type": "stream",
     "name": "stdout",
     "text": "cost: 0.4882646605070903\ncost: 0.1137913007681797\ncost: 0.11357794101236275\ncost: 0.06159723409072251\ncost: 0.05304228742871576\ncost: 0.09958818241680134\ncost: 0.07873062285696057\ncost: 0.06146157953249978\ncost: 0.08803728094615658\ncost: 0.07852139513370167\n"
    }
   ],
   "source": [
    "\n",
    "from sklearn.model_selection import train_test_split\n",
    "from sklearn.utils import shuffle\n",
    "\n",
    "model = NeuralNetwork(loss='mean-square-error')\n",
    "model.addLayer(inputDimension=1, units=10, activation='tanh')\n",
    "\n",
    "model.addLayer( units=10, activation='tanh',layer_type = DropoutLayer)\n",
    "\n",
    "model.addLayer( units=1, activation='',)\n",
    "model\n",
    "\n",
    "num_iterations = 10\n",
    "num_iterations = 100000\n",
    "for ix in range(num_iterations):\n",
    "    # minibatch\n",
    "    X_train, X_test, Y_train, y_test = train_test_split(X.T, y.T, test_size=0.7, random_state=42)\n",
    "    X_train = X_train.T\n",
    "    Y_train = Y_train.T\n",
    "\n",
    "    A = model.forward(X_train)\n",
    "    model.backward(A, Y_train)\n",
    "    model.update()\n",
    "    if ix % (num_iterations/10) == 0:\n",
    "        print('cost:', model.cost(Y_train, A))"
   ]
  },
  {
   "cell_type": "code",
   "execution_count": null,
   "metadata": {
    "tags": []
   },
   "outputs": [],
   "source": [
    "num_predictive_samples = 10\n",
    "\n",
    "predictive_sample_list = []\n",
    "\n",
    "for i in range(num_predictive_samples):\n",
    "    predictive_sample_list += [model.forward(X).squeeze()]\n",
    "\n",
    "\n",
    "pred_mean = np.mean(predictive_sample_list,0)\n",
    "pred_std = np.std(predictive_sample_list,0)\n",
    "\n",
    "mean_prediction_cost = model.cost(y,pred_mean)\n",
    "\n",
    "print(f'ensemble prediction cost: {mean_prediction_cost}')\n",
    "\n",
    "\n",
    "plt.plot(X.squeeze(),pred_mean,label='prediction of linear model')\n",
    "plt.fill_between(X.squeeze(), pred_mean, pred_mean - pred_std, alpha = 0.3,color='blue')\n",
    "plt.fill_between(X.squeeze(), pred_mean, pred_mean + pred_std, alpha = 0.3,color='blue')\n",
    "\n",
    "for sample in predictive_sample_list:\n",
    "    plt.plot(X.squeeze(), sample,alpha=0.3)\n",
    "\n",
    "plt.plot(X.squeeze(),y.squeeze(),label='truth')\n",
    "plt.legend()"
   ]
  },
  {
   "cell_type": "code",
   "execution_count": null,
   "metadata": {},
   "outputs": [],
   "source": []
  },
  {
   "cell_type": "code",
   "execution_count": null,
   "metadata": {},
   "outputs": [],
   "source": []
  },
  {
   "cell_type": "code",
   "execution_count": null,
   "metadata": {},
   "outputs": [],
   "source": []
  },
  {
   "cell_type": "code",
   "execution_count": 36,
   "metadata": {},
   "outputs": [],
   "source": [
    "# export \n",
    "\n",
    "# for gucs, model needs to have:\n",
    "# observe()\n",
    "# predict() -> stats.<distribution>; probably stat.normal() \n",
    "\n",
    "\n",
    "import scipy.stats as stats\n",
    "\n",
    "class NeuralNetworkRegressionEnsemble():\n",
    "    def __init__(self, input_dim, num_models=5, activation='tanh', num_units = 10):\n",
    "        self.models = []\n",
    "        for i in range(num_models):\n",
    "            model = NeuralNetwork(loss='mean-square-error',randomMultiplier=1)\n",
    "            model.addLayer(inputDimension=input_dim, units = num_units, activation=activation)\n",
    "            model.addLayer(units = 1, activation='')\n",
    "            self.models.append(model)\n",
    "\n",
    "        \n",
    "    def observe(self, X,y):\n",
    "        for model in self.models:\n",
    "            A = model.forward(X)\n",
    "            model.backward(A, y)\n",
    "            model.update()\n",
    "\n",
    "\n",
    "    def predict(self, X):\n",
    "        predictions = []\n",
    "        for model in self.models:\n",
    "            predictions.append(model.forward(X))\n",
    "        \n",
    "        mu = np.mean(predictions,0)\n",
    "        std = np.std(predictions,0)\n",
    "\n",
    "        return stats.norm(loc=mu, scale=std)\n",
    "\n",
    "    def cost(self,X,y):\n",
    "        costs = []\n",
    "        for model in self.models:\n",
    "            yhat = model.forward(X)\n",
    "            costs.append(model.cost(yhat,y))\n",
    "        return np.mean(costs)\n",
    "\n"
   ]
  },
  {
   "cell_type": "code",
   "execution_count": 39,
   "metadata": {},
   "outputs": [
    {
     "output_type": "execute_result",
     "data": {
      "text/plain": "(-5.268953329095633, (1, 2))"
     },
     "metadata": {},
     "execution_count": 39
    }
   ],
   "source": [
    "NNRE = NeuralNetworkRegressionEnsemble(2)\n",
    "A = np.atleast_2d([1,1])\n",
    "t = np.atleast_1d([1])\n",
    "NNRE.predict(A.T).rvs(), A.shape"
   ]
  },
  {
   "cell_type": "code",
   "execution_count": null,
   "metadata": {},
   "outputs": [],
   "source": [
    "A = NNRE.models[0].forward(np.atleast_2d([1,1]).T)\n",
    "NNRE.models[0].backward(A,np.atleast_1d([1]))\n",
    "NNRE.models[0].update()\n",
    "\n",
    "NNRE.models[0].forward(np.atleast_2d([1,1]).T), A"
   ]
  },
  {
   "cell_type": "code",
   "execution_count": 103,
   "metadata": {},
   "outputs": [],
   "source": []
  },
  {
   "cell_type": "code",
   "execution_count": 58,
   "metadata": {},
   "outputs": [],
   "source": []
  },
  {
   "cell_type": "code",
   "execution_count": 59,
   "metadata": {},
   "outputs": [
    {
     "output_type": "execute_result",
     "data": {
      "text/plain": "(array([[40401444.67621683]]), array([[-48.2144331]]))"
     },
     "metadata": {},
     "execution_count": 59
    }
   ],
   "source": []
  },
  {
   "cell_type": "code",
   "execution_count": 44,
   "metadata": {
    "tags": []
   },
   "outputs": [
    {
     "output_type": "stream",
     "name": "stdout",
     "text": "cost: 2.147162891046857\ncost: 0.04535069265815222\ncost: 0.01993324031096079\ncost: 0.014723856634306486\ncost: 0.01331918691624798\ncost: 0.012807017864443151\ncost: 0.012526571411741853\ncost: 0.012314874063320052\ncost: 0.012130779968502828\ncost: 0.01196313589642911\n"
    }
   ],
   "source": [
    "NNRE = NeuralNetworkRegressionEnsemble(1)\n",
    "\n",
    "\n",
    "num_iterations = 10\n",
    "num_iterations = 10000\n",
    "for ix in range(num_iterations):\n",
    "    # minibatch\n",
    "    X_train, X_test, Y_train, y_test = train_test_split(X.T, y.T, test_size=0.7, random_state=42)\n",
    "    X_train = X_train.T\n",
    "    Y_train = Y_train.T\n",
    "\n",
    "    NNRE.observe(X_train,Y_train)\n",
    "\n",
    "    if ix % (num_iterations/10) == 0:\n",
    "        \n",
    "\n",
    "        print('cost:', NNRE.cost(X_train, Y_train))\n",
    "\n"
   ]
  },
  {
   "cell_type": "code",
   "execution_count": 47,
   "metadata": {
    "tags": []
   },
   "outputs": [
    {
     "output_type": "stream",
     "name": "stdout",
     "text": "ensemble prediction cost: 0.014086886243924323\n"
    },
    {
     "output_type": "execute_result",
     "data": {
      "text/plain": "<matplotlib.legend.Legend at 0x7f6f780ec990>"
     },
     "metadata": {},
     "execution_count": 47
    },
    {
     "output_type": "display_data",
     "data": {
      "text/plain": "<Figure size 432x288 with 1 Axes>",
      "image/svg+xml": "<?xml version=\"1.0\" encoding=\"utf-8\" standalone=\"no\"?>\n<!DOCTYPE svg PUBLIC \"-//W3C//DTD SVG 1.1//EN\"\n  \"http://www.w3.org/Graphics/SVG/1.1/DTD/svg11.dtd\">\n<!-- Created with matplotlib (https://matplotlib.org/) -->\n<svg height=\"248.518125pt\" version=\"1.1\" viewBox=\"0 0 380.482812 248.518125\" width=\"380.482812pt\" xmlns=\"http://www.w3.org/2000/svg\" xmlns:xlink=\"http://www.w3.org/1999/xlink\">\n <defs>\n  <style type=\"text/css\">\n*{stroke-linecap:butt;stroke-linejoin:round;}\n  </style>\n </defs>\n <g id=\"figure_1\">\n  <g id=\"patch_1\">\n   <path d=\"M -0 248.518125 \nL 380.482812 248.518125 \nL 380.482812 0 \nL -0 0 \nz\n\" style=\"fill:none;\"/>\n  </g>\n  <g id=\"axes_1\">\n   <g id=\"patch_2\">\n    <path d=\"M 38.482813 224.64 \nL 373.282813 224.64 \nL 373.282813 7.2 \nL 38.482813 7.2 \nz\n\" style=\"fill:#ffffff;\"/>\n   </g>\n   <g id=\"PolyCollection_1\">\n    <defs>\n     <path d=\"M 53.700994 -114.430456 \nL 53.700994 -116.388123 \nL 56.775374 -112.938926 \nL 59.849755 -109.503728 \nL 62.924135 -106.087513 \nL 65.998515 -102.695622 \nL 69.072895 -99.333776 \nL 72.147275 -96.008095 \nL 75.221655 -92.725109 \nL 78.296036 -89.491785 \nL 81.370416 -86.315536 \nL 84.444796 -83.204242 \nL 87.519176 -80.166261 \nL 90.593556 -77.210448 \nL 93.667936 -74.346156 \nL 96.742317 -71.583254 \nL 99.816697 -68.932123 \nL 102.891077 -66.40366 \nL 105.965457 -64.009272 \nL 109.039837 -61.760862 \nL 112.114217 -59.67081 \nL 115.188598 -57.75195 \nL 118.262978 -56.017525 \nL 121.337358 -54.481142 \nL 124.411738 -53.156711 \nL 127.486118 -52.058365 \nL 130.560498 -51.200371 \nL 133.634879 -50.597018 \nL 136.709259 -50.26249 \nL 139.783639 -50.210715 \nL 142.858019 -50.455197 \nL 145.932399 -51.00882 \nL 149.006779 -51.883638 \nL 152.08116 -53.090632 \nL 155.15554 -54.639463 \nL 158.22992 -56.53819 \nL 161.3043 -58.792983 \nL 164.37868 -61.407828 \nL 167.45306 -64.384227 \nL 170.527441 -67.720897 \nL 173.601821 -71.413496 \nL 176.676201 -75.454364 \nL 179.750581 -79.832309 \nL 182.824961 -84.532435 \nL 185.899341 -89.536046 \nL 188.973722 -94.820615 \nL 192.048102 -100.359842 \nL 195.122482 -106.123812 \nL 198.196862 -112.079247 \nL 201.271242 -118.189861 \nL 204.345622 -124.416816 \nL 207.420003 -130.719254 \nL 210.494383 -137.054917 \nL 213.568763 -143.380806 \nL 216.643143 -149.653883 \nL 219.717523 -155.831774 \nL 222.791903 -161.87345 \nL 225.866284 -167.739873 \nL 228.940664 -173.39457 \nL 232.015044 -178.804125 \nL 235.089424 -183.938577 \nL 238.163804 -188.77171 \nL 241.238184 -193.281242 \nL 244.312565 -197.448904 \nL 247.386945 -201.260427 \nL 250.461325 -204.705443 \nL 253.535705 -207.777312 \nL 256.610085 -210.472887 \nL 259.684465 -212.792239 \nL 262.758846 -214.738349 \nL 265.833226 -216.316784 \nL 268.907606 -217.535359 \nL 271.981986 -218.403815 \nL 275.056366 -218.933498 \nL 278.130746 -219.137053 \nL 281.205127 -219.028152 \nL 284.279507 -218.621228 \nL 287.353887 -217.931252 \nL 290.428267 -216.973522 \nL 293.502647 -215.763487 \nL 296.577027 -214.316587 \nL 299.651408 -212.648128 \nL 302.725788 -210.773166 \nL 305.800168 -208.706418 \nL 308.874548 -206.462191 \nL 311.948928 -204.054322 \nL 315.023308 -201.496137 \nL 318.097689 -198.800418 \nL 321.172069 -195.979383 \nL 324.246449 -193.044673 \nL 327.320829 -190.007349 \nL 330.395209 -186.877893 \nL 333.469589 -183.666212 \nL 336.54397 -180.381654 \nL 339.61835 -177.033016 \nL 342.69273 -173.628566 \nL 345.76711 -170.176055 \nL 348.84149 -166.682745 \nL 351.91587 -163.155422 \nL 354.990251 -159.600421 \nL 358.064631 -156.023647 \nL 358.064631 -154.162225 \nL 358.064631 -154.162225 \nL 354.990251 -158.009393 \nL 351.91587 -161.822142 \nL 348.84149 -165.593993 \nL 345.76711 -169.31801 \nL 342.69273 -172.986732 \nL 339.61835 -176.591999 \nL 336.54397 -180.124165 \nL 333.469589 -183.564242 \nL 330.395209 -186.774788 \nL 327.320829 -189.779657 \nL 324.246449 -192.698144 \nL 321.172069 -195.529066 \nL 318.097689 -198.26286 \nL 315.023308 -200.888364 \nL 311.948928 -203.393507 \nL 308.874548 -205.765448 \nL 305.800168 -207.990626 \nL 302.725788 -210.054777 \nL 299.651408 -211.942956 \nL 296.577027 -213.639552 \nL 293.502647 -215.128302 \nL 290.428267 -216.392286 \nL 287.353887 -217.413856 \nL 284.279507 -218.174415 \nL 281.205127 -218.653813 \nL 278.130746 -218.828935 \nL 275.056366 -218.67157 \nL 271.981986 -218.150936 \nL 268.907606 -217.2496 \nL 265.833226 -215.970246 \nL 262.758846 -214.319735 \nL 259.684465 -212.301331 \nL 256.610085 -209.916449 \nL 253.535705 -207.166927 \nL 250.461325 -204.05629 \nL 247.386945 -200.590415 \nL 244.312565 -196.777902 \nL 241.238184 -192.630264 \nL 238.163804 -188.161961 \nL 235.089424 -183.390242 \nL 232.015044 -178.334578 \nL 228.940664 -173.015048 \nL 225.866284 -167.44746 \nL 222.791903 -161.631506 \nL 219.717523 -155.559058 \nL 216.643143 -149.279597 \nL 213.568763 -142.873586 \nL 210.494383 -136.405775 \nL 207.420003 -129.930624 \nL 204.345622 -123.498404 \nL 201.271242 -117.156765 \nL 198.196862 -110.950746 \nL 195.122482 -104.922362 \nL 192.048102 -99.110108 \nL 188.973722 -93.548526 \nL 185.899341 -88.267872 \nL 182.824961 -83.2939 \nL 179.750581 -78.647764 \nL 176.676201 -74.346019 \nL 173.601821 -70.40069 \nL 170.527441 -66.819353 \nL 167.45306 -63.605134 \nL 164.37868 -60.756391 \nL 161.3043 -58.265572 \nL 158.22992 -56.116281 \nL 155.15554 -54.279522 \nL 152.08116 -52.723991 \nL 149.006779 -51.447234 \nL 145.932399 -50.468272 \nL 142.858019 -49.79822 \nL 139.783639 -49.436879 \nL 136.709259 -49.377736 \nL 133.634879 -49.611056 \nL 130.560498 -50.12535 \nL 127.486118 -50.908102 \nL 124.411738 -51.946195 \nL 121.337358 -53.226183 \nL 118.262978 -54.734484 \nL 115.188598 -56.457532 \nL 112.114217 -58.381881 \nL 109.039837 -60.494295 \nL 105.965457 -62.781809 \nL 102.891077 -65.231759 \nL 99.816697 -67.831792 \nL 96.742317 -70.569823 \nL 93.667936 -73.433921 \nL 90.593556 -76.412016 \nL 87.519176 -79.491197 \nL 84.444796 -82.655855 \nL 81.370416 -85.882555 \nL 78.296036 -89.1288 \nL 75.221655 -92.33764 \nL 72.147275 -95.498457 \nL 69.072895 -98.642302 \nL 65.998515 -101.788294 \nL 62.924135 -104.941593 \nL 59.849755 -108.101609 \nL 56.775374 -111.265683 \nL 53.700994 -114.430456 \nz\n\" id=\"m51636f9934\" style=\"stroke:#0000ff;stroke-opacity:0.3;\"/>\n    </defs>\n    <g clip-path=\"url(#pc8f34b86e7)\">\n     <use style=\"fill:#0000ff;fill-opacity:0.3;stroke:#0000ff;stroke-opacity:0.3;\" x=\"0\" xlink:href=\"#m51636f9934\" y=\"248.518125\"/>\n    </g>\n   </g>\n   <g id=\"PolyCollection_2\">\n    <defs>\n     <path d=\"M 53.700994 -118.34579 \nL 53.700994 -116.388123 \nL 56.775374 -112.938926 \nL 59.849755 -109.503728 \nL 62.924135 -106.087513 \nL 65.998515 -102.695622 \nL 69.072895 -99.333776 \nL 72.147275 -96.008095 \nL 75.221655 -92.725109 \nL 78.296036 -89.491785 \nL 81.370416 -86.315536 \nL 84.444796 -83.204242 \nL 87.519176 -80.166261 \nL 90.593556 -77.210448 \nL 93.667936 -74.346156 \nL 96.742317 -71.583254 \nL 99.816697 -68.932123 \nL 102.891077 -66.40366 \nL 105.965457 -64.009272 \nL 109.039837 -61.760862 \nL 112.114217 -59.67081 \nL 115.188598 -57.75195 \nL 118.262978 -56.017525 \nL 121.337358 -54.481142 \nL 124.411738 -53.156711 \nL 127.486118 -52.058365 \nL 130.560498 -51.200371 \nL 133.634879 -50.597018 \nL 136.709259 -50.26249 \nL 139.783639 -50.210715 \nL 142.858019 -50.455197 \nL 145.932399 -51.00882 \nL 149.006779 -51.883638 \nL 152.08116 -53.090632 \nL 155.15554 -54.639463 \nL 158.22992 -56.53819 \nL 161.3043 -58.792983 \nL 164.37868 -61.407828 \nL 167.45306 -64.384227 \nL 170.527441 -67.720897 \nL 173.601821 -71.413496 \nL 176.676201 -75.454364 \nL 179.750581 -79.832309 \nL 182.824961 -84.532435 \nL 185.899341 -89.536046 \nL 188.973722 -94.820615 \nL 192.048102 -100.359842 \nL 195.122482 -106.123812 \nL 198.196862 -112.079247 \nL 201.271242 -118.189861 \nL 204.345622 -124.416816 \nL 207.420003 -130.719254 \nL 210.494383 -137.054917 \nL 213.568763 -143.380806 \nL 216.643143 -149.653883 \nL 219.717523 -155.831774 \nL 222.791903 -161.87345 \nL 225.866284 -167.739873 \nL 228.940664 -173.39457 \nL 232.015044 -178.804125 \nL 235.089424 -183.938577 \nL 238.163804 -188.77171 \nL 241.238184 -193.281242 \nL 244.312565 -197.448904 \nL 247.386945 -201.260427 \nL 250.461325 -204.705443 \nL 253.535705 -207.777312 \nL 256.610085 -210.472887 \nL 259.684465 -212.792239 \nL 262.758846 -214.738349 \nL 265.833226 -216.316784 \nL 268.907606 -217.535359 \nL 271.981986 -218.403815 \nL 275.056366 -218.933498 \nL 278.130746 -219.137053 \nL 281.205127 -219.028152 \nL 284.279507 -218.621228 \nL 287.353887 -217.931252 \nL 290.428267 -216.973522 \nL 293.502647 -215.763487 \nL 296.577027 -214.316587 \nL 299.651408 -212.648128 \nL 302.725788 -210.773166 \nL 305.800168 -208.706418 \nL 308.874548 -206.462191 \nL 311.948928 -204.054322 \nL 315.023308 -201.496137 \nL 318.097689 -198.800418 \nL 321.172069 -195.979383 \nL 324.246449 -193.044673 \nL 327.320829 -190.007349 \nL 330.395209 -186.877893 \nL 333.469589 -183.666212 \nL 336.54397 -180.381654 \nL 339.61835 -177.033016 \nL 342.69273 -173.628566 \nL 345.76711 -170.176055 \nL 348.84149 -166.682745 \nL 351.91587 -163.155422 \nL 354.990251 -159.600421 \nL 358.064631 -156.023647 \nL 358.064631 -157.885069 \nL 358.064631 -157.885069 \nL 354.990251 -161.191449 \nL 351.91587 -164.488703 \nL 348.84149 -167.771498 \nL 345.76711 -171.034101 \nL 342.69273 -174.270399 \nL 339.61835 -177.474034 \nL 336.54397 -180.639143 \nL 333.469589 -183.768182 \nL 330.395209 -186.980998 \nL 327.320829 -190.235041 \nL 324.246449 -193.391202 \nL 321.172069 -196.4297 \nL 318.097689 -199.337976 \nL 315.023308 -202.10391 \nL 311.948928 -204.715138 \nL 308.874548 -207.158934 \nL 305.800168 -209.42221 \nL 302.725788 -211.491554 \nL 299.651408 -213.3533 \nL 296.577027 -214.993622 \nL 293.502647 -216.398671 \nL 290.428267 -217.554758 \nL 287.353887 -218.448648 \nL 284.279507 -219.068041 \nL 281.205127 -219.40249 \nL 278.130746 -219.445172 \nL 275.056366 -219.195425 \nL 271.981986 -218.656695 \nL 268.907606 -217.821118 \nL 265.833226 -216.663321 \nL 262.758846 -215.156964 \nL 259.684465 -213.283147 \nL 256.610085 -211.029324 \nL 253.535705 -208.387697 \nL 250.461325 -205.354597 \nL 247.386945 -201.930439 \nL 244.312565 -198.119905 \nL 241.238184 -193.93222 \nL 238.163804 -189.38146 \nL 235.089424 -184.486912 \nL 232.015044 -179.273672 \nL 228.940664 -173.774092 \nL 225.866284 -168.032286 \nL 222.791903 -162.115394 \nL 219.717523 -156.10449 \nL 216.643143 -150.02817 \nL 213.568763 -143.888026 \nL 210.494383 -137.704058 \nL 207.420003 -131.507884 \nL 204.345622 -125.335227 \nL 201.271242 -119.222958 \nL 198.196862 -113.207747 \nL 195.122482 -107.325262 \nL 192.048102 -101.609577 \nL 188.973722 -96.092704 \nL 185.899341 -90.804221 \nL 182.824961 -85.77097 \nL 179.750581 -81.016853 \nL 176.676201 -76.56271 \nL 173.601821 -72.426302 \nL 170.527441 -68.622441 \nL 167.45306 -65.16332 \nL 164.37868 -62.059266 \nL 161.3043 -59.320394 \nL 158.22992 -56.960098 \nL 155.15554 -54.999404 \nL 152.08116 -53.457274 \nL 149.006779 -52.320041 \nL 145.932399 -51.549368 \nL 142.858019 -51.112174 \nL 139.783639 -50.984551 \nL 136.709259 -51.147244 \nL 133.634879 -51.582979 \nL 130.560498 -52.275392 \nL 127.486118 -53.208628 \nL 124.411738 -54.367227 \nL 121.337358 -55.736102 \nL 118.262978 -57.300565 \nL 115.188598 -59.046368 \nL 112.114217 -60.95974 \nL 109.039837 -63.027428 \nL 105.965457 -65.236735 \nL 102.891077 -67.575562 \nL 99.816697 -70.032455 \nL 96.742317 -72.596685 \nL 93.667936 -75.258391 \nL 90.593556 -78.008879 \nL 87.519176 -80.841326 \nL 84.444796 -83.752629 \nL 81.370416 -86.748517 \nL 78.296036 -89.85477 \nL 75.221655 -93.112579 \nL 72.147275 -96.517733 \nL 69.072895 -100.02525 \nL 65.998515 -103.60295 \nL 62.924135 -107.233433 \nL 59.849755 -110.905848 \nL 56.775374 -114.612169 \nL 53.700994 -118.34579 \nz\n\" id=\"mf41ce71ac8\" style=\"stroke:#0000ff;stroke-opacity:0.3;\"/>\n    </defs>\n    <g clip-path=\"url(#pc8f34b86e7)\">\n     <use style=\"fill:#0000ff;fill-opacity:0.3;stroke:#0000ff;stroke-opacity:0.3;\" x=\"0\" xlink:href=\"#mf41ce71ac8\" y=\"248.518125\"/>\n    </g>\n   </g>\n   <g id=\"matplotlib.axis_1\">\n    <g id=\"xtick_1\">\n     <g id=\"line2d_1\">\n      <defs>\n       <path d=\"M 0 0 \nL 0 3.5 \n\" id=\"m6ebe078777\" style=\"stroke:#000000;stroke-width:0.8;\"/>\n      </defs>\n      <g>\n       <use style=\"stroke:#000000;stroke-width:0.8;\" x=\"53.700994\" xlink:href=\"#m6ebe078777\" y=\"224.64\"/>\n      </g>\n     </g>\n     <g id=\"text_1\">\n      <!-- −1.00 -->\n      <defs>\n       <path d=\"M 10.59375 35.5 \nL 73.1875 35.5 \nL 73.1875 27.203125 \nL 10.59375 27.203125 \nz\n\" id=\"DejaVuSans-8722\"/>\n       <path d=\"M 12.40625 8.296875 \nL 28.515625 8.296875 \nL 28.515625 63.921875 \nL 10.984375 60.40625 \nL 10.984375 69.390625 \nL 28.421875 72.90625 \nL 38.28125 72.90625 \nL 38.28125 8.296875 \nL 54.390625 8.296875 \nL 54.390625 0 \nL 12.40625 0 \nz\n\" id=\"DejaVuSans-49\"/>\n       <path d=\"M 10.6875 12.40625 \nL 21 12.40625 \nL 21 0 \nL 10.6875 0 \nz\n\" id=\"DejaVuSans-46\"/>\n       <path d=\"M 31.78125 66.40625 \nQ 24.171875 66.40625 20.328125 58.90625 \nQ 16.5 51.421875 16.5 36.375 \nQ 16.5 21.390625 20.328125 13.890625 \nQ 24.171875 6.390625 31.78125 6.390625 \nQ 39.453125 6.390625 43.28125 13.890625 \nQ 47.125 21.390625 47.125 36.375 \nQ 47.125 51.421875 43.28125 58.90625 \nQ 39.453125 66.40625 31.78125 66.40625 \nz\nM 31.78125 74.21875 \nQ 44.046875 74.21875 50.515625 64.515625 \nQ 56.984375 54.828125 56.984375 36.375 \nQ 56.984375 17.96875 50.515625 8.265625 \nQ 44.046875 -1.421875 31.78125 -1.421875 \nQ 19.53125 -1.421875 13.0625 8.265625 \nQ 6.59375 17.96875 6.59375 36.375 \nQ 6.59375 54.828125 13.0625 64.515625 \nQ 19.53125 74.21875 31.78125 74.21875 \nz\n\" id=\"DejaVuSans-48\"/>\n      </defs>\n      <g transform=\"translate(38.378338 239.238437)scale(0.1 -0.1)\">\n       <use xlink:href=\"#DejaVuSans-8722\"/>\n       <use x=\"83.789062\" xlink:href=\"#DejaVuSans-49\"/>\n       <use x=\"147.412109\" xlink:href=\"#DejaVuSans-46\"/>\n       <use x=\"179.199219\" xlink:href=\"#DejaVuSans-48\"/>\n       <use x=\"242.822266\" xlink:href=\"#DejaVuSans-48\"/>\n      </g>\n     </g>\n    </g>\n    <g id=\"xtick_2\">\n     <g id=\"line2d_2\">\n      <g>\n       <use style=\"stroke:#000000;stroke-width:0.8;\" x=\"91.746449\" xlink:href=\"#m6ebe078777\" y=\"224.64\"/>\n      </g>\n     </g>\n     <g id=\"text_2\">\n      <!-- −0.75 -->\n      <defs>\n       <path d=\"M 8.203125 72.90625 \nL 55.078125 72.90625 \nL 55.078125 68.703125 \nL 28.609375 0 \nL 18.3125 0 \nL 43.21875 64.59375 \nL 8.203125 64.59375 \nz\n\" id=\"DejaVuSans-55\"/>\n       <path d=\"M 10.796875 72.90625 \nL 49.515625 72.90625 \nL 49.515625 64.59375 \nL 19.828125 64.59375 \nL 19.828125 46.734375 \nQ 21.96875 47.46875 24.109375 47.828125 \nQ 26.265625 48.1875 28.421875 48.1875 \nQ 40.625 48.1875 47.75 41.5 \nQ 54.890625 34.8125 54.890625 23.390625 \nQ 54.890625 11.625 47.5625 5.09375 \nQ 40.234375 -1.421875 26.90625 -1.421875 \nQ 22.3125 -1.421875 17.546875 -0.640625 \nQ 12.796875 0.140625 7.71875 1.703125 \nL 7.71875 11.625 \nQ 12.109375 9.234375 16.796875 8.0625 \nQ 21.484375 6.890625 26.703125 6.890625 \nQ 35.15625 6.890625 40.078125 11.328125 \nQ 45.015625 15.765625 45.015625 23.390625 \nQ 45.015625 31 40.078125 35.4375 \nQ 35.15625 39.890625 26.703125 39.890625 \nQ 22.75 39.890625 18.8125 39.015625 \nQ 14.890625 38.140625 10.796875 36.28125 \nz\n\" id=\"DejaVuSans-53\"/>\n      </defs>\n      <g transform=\"translate(76.423793 239.238437)scale(0.1 -0.1)\">\n       <use xlink:href=\"#DejaVuSans-8722\"/>\n       <use x=\"83.789062\" xlink:href=\"#DejaVuSans-48\"/>\n       <use x=\"147.412109\" xlink:href=\"#DejaVuSans-46\"/>\n       <use x=\"179.199219\" xlink:href=\"#DejaVuSans-55\"/>\n       <use x=\"242.822266\" xlink:href=\"#DejaVuSans-53\"/>\n      </g>\n     </g>\n    </g>\n    <g id=\"xtick_3\">\n     <g id=\"line2d_3\">\n      <g>\n       <use style=\"stroke:#000000;stroke-width:0.8;\" x=\"129.791903\" xlink:href=\"#m6ebe078777\" y=\"224.64\"/>\n      </g>\n     </g>\n     <g id=\"text_3\">\n      <!-- −0.50 -->\n      <g transform=\"translate(114.469247 239.238437)scale(0.1 -0.1)\">\n       <use xlink:href=\"#DejaVuSans-8722\"/>\n       <use x=\"83.789062\" xlink:href=\"#DejaVuSans-48\"/>\n       <use x=\"147.412109\" xlink:href=\"#DejaVuSans-46\"/>\n       <use x=\"179.199219\" xlink:href=\"#DejaVuSans-53\"/>\n       <use x=\"242.822266\" xlink:href=\"#DejaVuSans-48\"/>\n      </g>\n     </g>\n    </g>\n    <g id=\"xtick_4\">\n     <g id=\"line2d_4\">\n      <g>\n       <use style=\"stroke:#000000;stroke-width:0.8;\" x=\"167.837358\" xlink:href=\"#m6ebe078777\" y=\"224.64\"/>\n      </g>\n     </g>\n     <g id=\"text_4\">\n      <!-- −0.25 -->\n      <defs>\n       <path d=\"M 19.1875 8.296875 \nL 53.609375 8.296875 \nL 53.609375 0 \nL 7.328125 0 \nL 7.328125 8.296875 \nQ 12.9375 14.109375 22.625 23.890625 \nQ 32.328125 33.6875 34.8125 36.53125 \nQ 39.546875 41.84375 41.421875 45.53125 \nQ 43.3125 49.21875 43.3125 52.78125 \nQ 43.3125 58.59375 39.234375 62.25 \nQ 35.15625 65.921875 28.609375 65.921875 \nQ 23.96875 65.921875 18.8125 64.3125 \nQ 13.671875 62.703125 7.8125 59.421875 \nL 7.8125 69.390625 \nQ 13.765625 71.78125 18.9375 73 \nQ 24.125 74.21875 28.421875 74.21875 \nQ 39.75 74.21875 46.484375 68.546875 \nQ 53.21875 62.890625 53.21875 53.421875 \nQ 53.21875 48.921875 51.53125 44.890625 \nQ 49.859375 40.875 45.40625 35.40625 \nQ 44.1875 33.984375 37.640625 27.21875 \nQ 31.109375 20.453125 19.1875 8.296875 \nz\n\" id=\"DejaVuSans-50\"/>\n      </defs>\n      <g transform=\"translate(152.514702 239.238437)scale(0.1 -0.1)\">\n       <use xlink:href=\"#DejaVuSans-8722\"/>\n       <use x=\"83.789062\" xlink:href=\"#DejaVuSans-48\"/>\n       <use x=\"147.412109\" xlink:href=\"#DejaVuSans-46\"/>\n       <use x=\"179.199219\" xlink:href=\"#DejaVuSans-50\"/>\n       <use x=\"242.822266\" xlink:href=\"#DejaVuSans-53\"/>\n      </g>\n     </g>\n    </g>\n    <g id=\"xtick_5\">\n     <g id=\"line2d_5\">\n      <g>\n       <use style=\"stroke:#000000;stroke-width:0.8;\" x=\"205.882812\" xlink:href=\"#m6ebe078777\" y=\"224.64\"/>\n      </g>\n     </g>\n     <g id=\"text_5\">\n      <!-- 0.00 -->\n      <g transform=\"translate(194.75 239.238437)scale(0.1 -0.1)\">\n       <use xlink:href=\"#DejaVuSans-48\"/>\n       <use x=\"63.623047\" xlink:href=\"#DejaVuSans-46\"/>\n       <use x=\"95.410156\" xlink:href=\"#DejaVuSans-48\"/>\n       <use x=\"159.033203\" xlink:href=\"#DejaVuSans-48\"/>\n      </g>\n     </g>\n    </g>\n    <g id=\"xtick_6\">\n     <g id=\"line2d_6\">\n      <g>\n       <use style=\"stroke:#000000;stroke-width:0.8;\" x=\"243.928267\" xlink:href=\"#m6ebe078777\" y=\"224.64\"/>\n      </g>\n     </g>\n     <g id=\"text_6\">\n      <!-- 0.25 -->\n      <g transform=\"translate(232.795455 239.238437)scale(0.1 -0.1)\">\n       <use xlink:href=\"#DejaVuSans-48\"/>\n       <use x=\"63.623047\" xlink:href=\"#DejaVuSans-46\"/>\n       <use x=\"95.410156\" xlink:href=\"#DejaVuSans-50\"/>\n       <use x=\"159.033203\" xlink:href=\"#DejaVuSans-53\"/>\n      </g>\n     </g>\n    </g>\n    <g id=\"xtick_7\">\n     <g id=\"line2d_7\">\n      <g>\n       <use style=\"stroke:#000000;stroke-width:0.8;\" x=\"281.973722\" xlink:href=\"#m6ebe078777\" y=\"224.64\"/>\n      </g>\n     </g>\n     <g id=\"text_7\">\n      <!-- 0.50 -->\n      <g transform=\"translate(270.840909 239.238437)scale(0.1 -0.1)\">\n       <use xlink:href=\"#DejaVuSans-48\"/>\n       <use x=\"63.623047\" xlink:href=\"#DejaVuSans-46\"/>\n       <use x=\"95.410156\" xlink:href=\"#DejaVuSans-53\"/>\n       <use x=\"159.033203\" xlink:href=\"#DejaVuSans-48\"/>\n      </g>\n     </g>\n    </g>\n    <g id=\"xtick_8\">\n     <g id=\"line2d_8\">\n      <g>\n       <use style=\"stroke:#000000;stroke-width:0.8;\" x=\"320.019176\" xlink:href=\"#m6ebe078777\" y=\"224.64\"/>\n      </g>\n     </g>\n     <g id=\"text_8\">\n      <!-- 0.75 -->\n      <g transform=\"translate(308.886364 239.238437)scale(0.1 -0.1)\">\n       <use xlink:href=\"#DejaVuSans-48\"/>\n       <use x=\"63.623047\" xlink:href=\"#DejaVuSans-46\"/>\n       <use x=\"95.410156\" xlink:href=\"#DejaVuSans-55\"/>\n       <use x=\"159.033203\" xlink:href=\"#DejaVuSans-53\"/>\n      </g>\n     </g>\n    </g>\n    <g id=\"xtick_9\">\n     <g id=\"line2d_9\">\n      <g>\n       <use style=\"stroke:#000000;stroke-width:0.8;\" x=\"358.064631\" xlink:href=\"#m6ebe078777\" y=\"224.64\"/>\n      </g>\n     </g>\n     <g id=\"text_9\">\n      <!-- 1.00 -->\n      <g transform=\"translate(346.931818 239.238437)scale(0.1 -0.1)\">\n       <use xlink:href=\"#DejaVuSans-49\"/>\n       <use x=\"63.623047\" xlink:href=\"#DejaVuSans-46\"/>\n       <use x=\"95.410156\" xlink:href=\"#DejaVuSans-48\"/>\n       <use x=\"159.033203\" xlink:href=\"#DejaVuSans-48\"/>\n      </g>\n     </g>\n    </g>\n   </g>\n   <g id=\"matplotlib.axis_2\">\n    <g id=\"ytick_1\">\n     <g id=\"line2d_10\">\n      <defs>\n       <path d=\"M 0 0 \nL -3.5 0 \n\" id=\"m02395dec72\" style=\"stroke:#000000;stroke-width:0.8;\"/>\n      </defs>\n      <g>\n       <use style=\"stroke:#000000;stroke-width:0.8;\" x=\"38.482813\" xlink:href=\"#m02395dec72\" y=\"203.090863\"/>\n      </g>\n     </g>\n     <g id=\"text_10\">\n      <!-- −1.0 -->\n      <g transform=\"translate(7.2 206.890081)scale(0.1 -0.1)\">\n       <use xlink:href=\"#DejaVuSans-8722\"/>\n       <use x=\"83.789062\" xlink:href=\"#DejaVuSans-49\"/>\n       <use x=\"147.412109\" xlink:href=\"#DejaVuSans-46\"/>\n       <use x=\"179.199219\" xlink:href=\"#DejaVuSans-48\"/>\n      </g>\n     </g>\n    </g>\n    <g id=\"ytick_2\">\n     <g id=\"line2d_11\">\n      <g>\n       <use style=\"stroke:#000000;stroke-width:0.8;\" x=\"38.482813\" xlink:href=\"#m02395dec72\" y=\"158.563188\"/>\n      </g>\n     </g>\n     <g id=\"text_11\">\n      <!-- −0.5 -->\n      <g transform=\"translate(7.2 162.362406)scale(0.1 -0.1)\">\n       <use xlink:href=\"#DejaVuSans-8722\"/>\n       <use x=\"83.789062\" xlink:href=\"#DejaVuSans-48\"/>\n       <use x=\"147.412109\" xlink:href=\"#DejaVuSans-46\"/>\n       <use x=\"179.199219\" xlink:href=\"#DejaVuSans-53\"/>\n      </g>\n     </g>\n    </g>\n    <g id=\"ytick_3\">\n     <g id=\"line2d_12\">\n      <g>\n       <use style=\"stroke:#000000;stroke-width:0.8;\" x=\"38.482813\" xlink:href=\"#m02395dec72\" y=\"114.035513\"/>\n      </g>\n     </g>\n     <g id=\"text_12\">\n      <!-- 0.0 -->\n      <g transform=\"translate(15.579688 117.834732)scale(0.1 -0.1)\">\n       <use xlink:href=\"#DejaVuSans-48\"/>\n       <use x=\"63.623047\" xlink:href=\"#DejaVuSans-46\"/>\n       <use x=\"95.410156\" xlink:href=\"#DejaVuSans-48\"/>\n      </g>\n     </g>\n    </g>\n    <g id=\"ytick_4\">\n     <g id=\"line2d_13\">\n      <g>\n       <use style=\"stroke:#000000;stroke-width:0.8;\" x=\"38.482813\" xlink:href=\"#m02395dec72\" y=\"69.507838\"/>\n      </g>\n     </g>\n     <g id=\"text_13\">\n      <!-- 0.5 -->\n      <g transform=\"translate(15.579688 73.307057)scale(0.1 -0.1)\">\n       <use xlink:href=\"#DejaVuSans-48\"/>\n       <use x=\"63.623047\" xlink:href=\"#DejaVuSans-46\"/>\n       <use x=\"95.410156\" xlink:href=\"#DejaVuSans-53\"/>\n      </g>\n     </g>\n    </g>\n    <g id=\"ytick_5\">\n     <g id=\"line2d_14\">\n      <g>\n       <use style=\"stroke:#000000;stroke-width:0.8;\" x=\"38.482813\" xlink:href=\"#m02395dec72\" y=\"24.980163\"/>\n      </g>\n     </g>\n     <g id=\"text_14\">\n      <!-- 1.0 -->\n      <g transform=\"translate(15.579688 28.779382)scale(0.1 -0.1)\">\n       <use xlink:href=\"#DejaVuSans-49\"/>\n       <use x=\"63.623047\" xlink:href=\"#DejaVuSans-46\"/>\n       <use x=\"95.410156\" xlink:href=\"#DejaVuSans-48\"/>\n      </g>\n     </g>\n    </g>\n   </g>\n   <g id=\"line2d_15\">\n    <path clip-path=\"url(#pc8f34b86e7)\" d=\"M 53.700994 132.130002 \nL 56.775374 135.579199 \nL 59.849755 139.014397 \nL 62.924135 142.430612 \nL 65.998515 145.822503 \nL 69.072895 149.184349 \nL 72.147275 152.51003 \nL 75.221655 155.793016 \nL 78.296036 159.02634 \nL 81.370416 162.202589 \nL 84.444796 165.313883 \nL 87.519176 168.351864 \nL 90.593556 171.307677 \nL 93.667936 174.171969 \nL 96.742317 176.934871 \nL 99.816697 179.586002 \nL 102.891077 182.114465 \nL 105.965457 184.508853 \nL 109.039837 186.757263 \nL 112.114217 188.847315 \nL 115.188598 190.766175 \nL 118.262978 192.5006 \nL 121.337358 194.036983 \nL 124.411738 195.361414 \nL 127.486118 196.45976 \nL 130.560498 197.317754 \nL 133.634879 197.921107 \nL 136.709259 198.255635 \nL 139.783639 198.30741 \nL 142.858019 198.062928 \nL 145.932399 197.509305 \nL 149.006779 196.634487 \nL 152.08116 195.427493 \nL 155.15554 193.878662 \nL 158.22992 191.979935 \nL 161.3043 189.725142 \nL 164.37868 187.110297 \nL 167.45306 184.133898 \nL 170.527441 180.797228 \nL 173.601821 177.104629 \nL 176.676201 173.063761 \nL 179.750581 168.685816 \nL 182.824961 163.98569 \nL 185.899341 158.982079 \nL 188.973722 153.69751 \nL 192.048102 148.158283 \nL 195.122482 142.394313 \nL 198.196862 136.438878 \nL 201.271242 130.328264 \nL 204.345622 124.101309 \nL 207.420003 117.798871 \nL 210.494383 111.463208 \nL 213.568763 105.137319 \nL 216.643143 98.864242 \nL 219.717523 92.686351 \nL 222.791903 86.644675 \nL 225.866284 80.778252 \nL 228.940664 75.123555 \nL 232.015044 69.714 \nL 235.089424 64.579548 \nL 238.163804 59.746415 \nL 241.238184 55.236883 \nL 244.312565 51.069221 \nL 247.386945 47.257698 \nL 250.461325 43.812682 \nL 253.535705 40.740813 \nL 256.610085 38.045238 \nL 259.684465 35.725886 \nL 262.758846 33.779776 \nL 265.833226 32.201341 \nL 268.907606 30.982766 \nL 271.981986 30.11431 \nL 275.056366 29.584627 \nL 278.130746 29.381072 \nL 281.205127 29.489973 \nL 284.279507 29.896897 \nL 287.353887 30.586873 \nL 290.428267 31.544603 \nL 293.502647 32.754638 \nL 296.577027 34.201538 \nL 299.651408 35.869997 \nL 302.725788 37.744959 \nL 305.800168 39.811707 \nL 308.874548 42.055934 \nL 311.948928 44.463803 \nL 315.023308 47.021988 \nL 318.097689 49.717707 \nL 321.172069 52.538742 \nL 324.246449 55.473452 \nL 327.320829 58.510776 \nL 330.395209 61.640232 \nL 333.469589 64.851913 \nL 336.54397 68.136471 \nL 339.61835 71.485109 \nL 342.69273 74.889559 \nL 345.76711 78.34207 \nL 348.84149 81.83538 \nL 351.91587 85.362703 \nL 354.990251 88.917704 \nL 358.064631 92.494478 \n\" style=\"fill:none;stroke:#1f77b4;stroke-linecap:square;stroke-width:1.5;\"/>\n   </g>\n   <g id=\"line2d_16\">\n    <path clip-path=\"url(#pc8f34b86e7)\" d=\"M 53.700994 128.652736 \nL 56.775374 137.132237 \nL 59.849755 138.06968 \nL 62.924135 144.207736 \nL 65.998515 145.770157 \nL 69.072895 148.697519 \nL 72.147275 151.47993 \nL 75.221655 155.561862 \nL 78.296036 158.626437 \nL 81.370416 162.395353 \nL 84.444796 164.66599 \nL 87.519176 169.755276 \nL 90.593556 170.144067 \nL 93.667936 173.862582 \nL 96.742317 176.959998 \nL 99.816697 178.802627 \nL 102.891077 180.02569 \nL 105.965457 183.872267 \nL 109.039837 183.700377 \nL 112.114217 188.05111 \nL 115.188598 190.307988 \nL 118.262978 191.173981 \nL 121.337358 192.824959 \nL 124.411738 195.223523 \nL 127.486118 196.508975 \nL 130.560498 196.916604 \nL 133.634879 198.722492 \nL 136.709259 198.226473 \nL 139.783639 199.619148 \nL 142.858019 198.853223 \nL 145.932399 197.086671 \nL 149.006779 197.057125 \nL 152.08116 195.514362 \nL 155.15554 194.119771 \nL 158.22992 191.896454 \nL 161.3043 191.296614 \nL 164.37868 187.14954 \nL 167.45306 183.837677 \nL 170.527441 181.237462 \nL 173.601821 177.326335 \nL 176.676201 173.370429 \nL 179.750581 169.523467 \nL 182.824961 163.127009 \nL 185.899341 158.674908 \nL 188.973722 153.330008 \nL 192.048102 147.730867 \nL 195.122482 144.027842 \nL 198.196862 134.69724 \nL 201.271242 130.505499 \nL 204.345622 124.375793 \nL 207.420003 118.667106 \nL 210.494383 111.138637 \nL 213.568763 105.405362 \nL 216.643143 99.172028 \nL 219.717523 92.303277 \nL 222.791903 86.458832 \nL 225.866284 81.552361 \nL 228.940664 75.299939 \nL 232.015044 69.354141 \nL 235.089424 64.893277 \nL 238.163804 60.059094 \nL 241.238184 55.889363 \nL 244.312565 51.390566 \nL 247.386945 47.216761 \nL 250.461325 42.525208 \nL 253.535705 41.140468 \nL 256.610085 37.881075 \nL 259.684465 35.486465 \nL 262.758846 34.380918 \nL 265.833226 31.45378 \nL 268.907606 30.644541 \nL 271.981986 29.599299 \nL 275.056366 29.658217 \nL 278.130746 29.432873 \nL 281.205127 29.416904 \nL 284.279507 30.098896 \nL 287.353887 31.061763 \nL 290.428267 30.848525 \nL 293.502647 31.562171 \nL 296.577027 34.544463 \nL 299.651408 36.278171 \nL 302.725788 37.745059 \nL 305.800168 40.286416 \nL 308.874548 42.051536 \nL 311.948928 44.323326 \nL 315.023308 46.782283 \nL 318.097689 49.316677 \nL 321.172069 52.483357 \nL 324.246449 55.422794 \nL 327.320829 58.442387 \nL 330.395209 61.520487 \nL 333.469589 65.147616 \nL 336.54397 68.005914 \nL 339.61835 70.84296 \nL 342.69273 74.439386 \nL 345.76711 78.486913 \nL 348.84149 81.241122 \nL 351.91587 83.397347 \nL 354.990251 89.90582 \nL 358.064631 91.775291 \n\" style=\"fill:none;stroke:#ff7f0e;stroke-linecap:square;stroke-opacity:0.3;stroke-width:1.5;\"/>\n   </g>\n   <g id=\"line2d_17\">\n    <path clip-path=\"url(#pc8f34b86e7)\" d=\"M 53.700994 130.97503 \nL 56.775374 136.940511 \nL 59.849755 138.949963 \nL 62.924135 142.458296 \nL 65.998515 145.544042 \nL 69.072895 148.650835 \nL 72.147275 153.062028 \nL 75.221655 155.907584 \nL 78.296036 159.835751 \nL 81.370416 161.482685 \nL 84.444796 165.058982 \nL 87.519176 167.604088 \nL 90.593556 170.605221 \nL 93.667936 175.158695 \nL 96.742317 178.135987 \nL 99.816697 179.087218 \nL 102.891077 180.626482 \nL 105.965457 186.273727 \nL 109.039837 186.55975 \nL 112.114217 188.140833 \nL 115.188598 191.079569 \nL 118.262978 192.426577 \nL 121.337358 193.733876 \nL 124.411738 196.239116 \nL 127.486118 196.876486 \nL 130.560498 197.153053 \nL 133.634879 198.816047 \nL 136.709259 196.656788 \nL 139.783639 198.830243 \nL 142.858019 199.206967 \nL 145.932399 198.509916 \nL 149.006779 197.134739 \nL 152.08116 195.295126 \nL 155.15554 193.516517 \nL 158.22992 191.687624 \nL 161.3043 189.030219 \nL 164.37868 186.895734 \nL 167.45306 184.25549 \nL 170.527441 180.110533 \nL 173.601821 178.341449 \nL 176.676201 172.552878 \nL 179.750581 169.608163 \nL 182.824961 164.528095 \nL 185.899341 160.396928 \nL 188.973722 151.305744 \nL 192.048102 147.924831 \nL 195.122482 139.188351 \nL 198.196862 139.030452 \nL 201.271242 131.154168 \nL 204.345622 123.64169 \nL 207.420003 117.744029 \nL 210.494383 111.789117 \nL 213.568763 104.409325 \nL 216.643143 98.66885 \nL 219.717523 92.499944 \nL 222.791903 86.728516 \nL 225.866284 80.533234 \nL 228.940664 75.508013 \nL 232.015044 69.495835 \nL 235.089424 63.857195 \nL 238.163804 60.189659 \nL 241.238184 54.78588 \nL 244.312565 50.996813 \nL 247.386945 46.71529 \nL 250.461325 43.819306 \nL 253.535705 40.382605 \nL 256.610085 38.454405 \nL 259.684465 35.148987 \nL 262.758846 33.954485 \nL 265.833226 31.921325 \nL 268.907606 30.736277 \nL 271.981986 30.227778 \nL 275.056366 29.457687 \nL 278.130746 29.397781 \nL 281.205127 29.861501 \nL 284.279507 30.401707 \nL 287.353887 31.012086 \nL 290.428267 31.331176 \nL 293.502647 32.690732 \nL 296.577027 33.522857 \nL 299.651408 36.193549 \nL 302.725788 38.274206 \nL 305.800168 39.571268 \nL 308.874548 41.24543 \nL 311.948928 44.203526 \nL 315.023308 47.520681 \nL 318.097689 49.971026 \nL 321.172069 53.696525 \nL 324.246449 55.548317 \nL 327.320829 58.662113 \nL 330.395209 61.729168 \nL 333.469589 64.906116 \nL 336.54397 68.228366 \nL 339.61835 71.358281 \nL 342.69273 75.432764 \nL 345.76711 79.7226 \nL 348.84149 81.195823 \nL 351.91587 85.544794 \nL 354.990251 89.081232 \nL 358.064631 91.635283 \n\" style=\"fill:none;stroke:#2ca02c;stroke-linecap:square;stroke-opacity:0.3;stroke-width:1.5;\"/>\n   </g>\n   <g id=\"line2d_18\">\n    <path clip-path=\"url(#pc8f34b86e7)\" d=\"M 53.700994 132.800079 \nL 56.775374 136.27616 \nL 59.849755 139.517687 \nL 62.924135 142.725709 \nL 65.998515 145.448483 \nL 69.072895 149.024673 \nL 72.147275 152.082817 \nL 75.221655 155.794613 \nL 78.296036 159.033763 \nL 81.370416 162.405566 \nL 84.444796 164.571158 \nL 87.519176 168.863452 \nL 90.593556 171.642574 \nL 93.667936 174.839765 \nL 96.742317 175.114299 \nL 99.816697 178.395848 \nL 102.891077 182.203398 \nL 105.965457 185.147493 \nL 109.039837 185.190468 \nL 112.114217 187.833794 \nL 115.188598 190.777582 \nL 118.262978 191.763045 \nL 121.337358 195.089763 \nL 124.411738 194.390861 \nL 127.486118 195.865993 \nL 130.560498 198.197628 \nL 133.634879 198.817796 \nL 136.709259 198.055243 \nL 139.783639 198.974673 \nL 142.858019 197.233424 \nL 145.932399 198.347672 \nL 149.006779 197.251201 \nL 152.08116 195.740503 \nL 155.15554 193.747323 \nL 158.22992 193.095042 \nL 161.3043 188.789999 \nL 164.37868 187.402482 \nL 167.45306 183.723835 \nL 170.527441 181.862669 \nL 173.601821 175.944719 \nL 176.676201 172.195419 \nL 179.750581 168.16817 \nL 182.824961 165.376826 \nL 185.899341 159.002481 \nL 188.973722 156.315995 \nL 192.048102 149.753017 \nL 195.122482 142.279398 \nL 198.196862 136.752991 \nL 201.271242 129.320205 \nL 204.345622 125.449032 \nL 207.420003 117.76765 \nL 210.494383 111.05152 \nL 213.568763 104.730796 \nL 216.643143 99.134264 \nL 219.717523 92.954954 \nL 222.791903 86.958862 \nL 225.866284 80.767832 \nL 228.940664 75.097577 \nL 232.015044 70.320096 \nL 235.089424 64.834832 \nL 238.163804 59.109244 \nL 241.238184 53.968574 \nL 244.312565 51.182457 \nL 247.386945 46.812601 \nL 250.461325 42.755192 \nL 253.535705 41.006617 \nL 256.610085 38.204464 \nL 259.684465 36.013527 \nL 262.758846 34.939131 \nL 265.833226 32.539426 \nL 268.907606 30.632922 \nL 271.981986 30.752518 \nL 275.056366 29.686674 \nL 278.130746 29.700248 \nL 281.205127 29.577001 \nL 284.279507 29.908406 \nL 287.353887 30.704038 \nL 290.428267 31.344134 \nL 293.502647 32.361116 \nL 296.577027 33.959829 \nL 299.651408 35.670556 \nL 302.725788 38.106482 \nL 305.800168 40.147337 \nL 308.874548 41.980795 \nL 311.948928 44.251147 \nL 315.023308 47.305065 \nL 318.097689 49.031553 \nL 321.172069 53.01753 \nL 324.246449 55.609594 \nL 327.320829 58.345147 \nL 330.395209 61.659839 \nL 333.469589 64.705809 \nL 336.54397 67.843197 \nL 339.61835 71.463199 \nL 342.69273 74.754349 \nL 345.76711 78.512326 \nL 348.84149 81.792176 \nL 351.91587 84.929902 \nL 354.990251 90.949431 \nL 358.064631 95.240654 \n\" style=\"fill:none;stroke:#d62728;stroke-linecap:square;stroke-opacity:0.3;stroke-width:1.5;\"/>\n   </g>\n   <g id=\"line2d_19\">\n    <path clip-path=\"url(#pc8f34b86e7)\" d=\"M 53.700994 135.067602 \nL 56.775374 132.333993 \nL 59.849755 137.098937 \nL 62.924135 141.850626 \nL 65.998515 145.596272 \nL 69.072895 148.981972 \nL 72.147275 151.470519 \nL 75.221655 155.918952 \nL 78.296036 159.130056 \nL 81.370416 161.733717 \nL 84.444796 164.5829 \nL 87.519176 168.8153 \nL 90.593556 171.857142 \nL 93.667936 174.047834 \nL 96.742317 177.908776 \nL 99.816697 177.389897 \nL 102.891077 182.845494 \nL 105.965457 185.689069 \nL 109.039837 185.826462 \nL 112.114217 189.062501 \nL 115.188598 188.786745 \nL 118.262978 194.702664 \nL 121.337358 194.375096 \nL 124.411738 197.446797 \nL 127.486118 198.018224 \nL 130.560498 198.35532 \nL 133.634879 198.572006 \nL 136.709259 199.599186 \nL 139.783639 197.937986 \nL 142.858019 197.270464 \nL 145.932399 197.002662 \nL 149.006779 196.73406 \nL 152.08116 196.555684 \nL 155.15554 194.719392 \nL 158.22992 192.580293 \nL 161.3043 189.601499 \nL 164.37868 185.983987 \nL 167.45306 184.651103 \nL 170.527441 178.644936 \nL 173.601821 176.19789 \nL 176.676201 174.453564 \nL 179.750581 168.146417 \nL 182.824961 165.031754 \nL 185.899341 158.022959 \nL 188.973722 153.61446 \nL 192.048102 148.315593 \nL 195.122482 141.855353 \nL 198.196862 136.222987 \nL 201.271242 132.218127 \nL 204.345622 124.500322 \nL 207.420003 118.972225 \nL 210.494383 111.890159 \nL 213.568763 105.029936 \nL 216.643143 99.059522 \nL 219.717523 92.987533 \nL 222.791903 86.733444 \nL 225.866284 81.044425 \nL 228.940664 74.814638 \nL 232.015044 69.990402 \nL 235.089424 64.595824 \nL 238.163804 59.912417 \nL 241.238184 54.903839 \nL 244.312565 50.133936 \nL 247.386945 47.147836 \nL 250.461325 43.046957 \nL 253.535705 40.700661 \nL 256.610085 38.262491 \nL 259.684465 37.021811 \nL 262.758846 34.326092 \nL 265.833226 32.375884 \nL 268.907606 30.865421 \nL 271.981986 29.85201 \nL 275.056366 29.315691 \nL 278.130746 29.131959 \nL 281.205127 29.3825 \nL 284.279507 30.566402 \nL 287.353887 31.043522 \nL 290.428267 31.399624 \nL 293.502647 32.345694 \nL 296.577027 33.945605 \nL 299.651408 35.696369 \nL 302.725788 37.69704 \nL 305.800168 40.051974 \nL 308.874548 42.384165 \nL 311.948928 44.689407 \nL 315.023308 47.63067 \nL 318.097689 50.586796 \nL 321.172069 52.394007 \nL 324.246449 54.659131 \nL 327.320829 58.535592 \nL 330.395209 61.742067 \nL 333.469589 64.772822 \nL 336.54397 68.433835 \nL 339.61835 71.256072 \nL 342.69273 75.004947 \nL 345.76711 78.633986 \nL 348.84149 82.231178 \nL 351.91587 84.394047 \nL 354.990251 87.632145 \nL 358.064631 92.481131 \n\" style=\"fill:none;stroke:#9467bd;stroke-linecap:square;stroke-opacity:0.3;stroke-width:1.5;\"/>\n   </g>\n   <g id=\"line2d_20\">\n    <path clip-path=\"url(#pc8f34b86e7)\" d=\"M 53.700994 132.752794 \nL 56.775374 136.144232 \nL 59.849755 140.686872 \nL 62.924135 142.626802 \nL 65.998515 146.341497 \nL 69.072895 150.336346 \nL 72.147275 152.375184 \nL 75.221655 155.581768 \nL 78.296036 159.528826 \nL 81.370416 162.721513 \nL 84.444796 165.256162 \nL 87.519176 168.409772 \nL 90.593556 171.555599 \nL 93.667936 174.043786 \nL 96.742317 175.985833 \nL 99.816697 178.052823 \nL 102.891077 181.183903 \nL 105.965457 185.151699 \nL 109.039837 186.933238 \nL 112.114217 189.249615 \nL 115.188598 191.118778 \nL 118.262978 190.985063 \nL 121.337358 194.47673 \nL 124.411738 194.158783 \nL 127.486118 195.666816 \nL 130.560498 196.677723 \nL 133.634879 197.706223 \nL 136.709259 198.131218 \nL 139.783639 198.276523 \nL 142.858019 198.902722 \nL 145.932399 197.599359 \nL 149.006779 197.615255 \nL 152.08116 195.180141 \nL 155.15554 193.652122 \nL 158.22992 191.946959 \nL 161.3043 189.237305 \nL 164.37868 188.130788 \nL 167.45306 184.1234 \nL 170.527441 181.838088 \nL 173.601821 175.852259 \nL 176.676201 173.060031 \nL 179.750581 169.41323 \nL 182.824961 163.83217 \nL 185.899341 159.88922 \nL 188.973722 155.082228 \nL 192.048102 149.029386 \nL 195.122482 143.708487 \nL 198.196862 136.899908 \nL 201.271242 130.302944 \nL 204.345622 122.532612 \nL 207.420003 118.177518 \nL 210.494383 111.147964 \nL 213.568763 105.175197 \nL 216.643143 98.646055 \nL 219.717523 92.781391 \nL 222.791903 86.917749 \nL 225.866284 79.988996 \nL 228.940664 75.150869 \nL 232.015044 70.430482 \nL 235.089424 64.647463 \nL 238.163804 60.199488 \nL 241.238184 56.527012 \nL 244.312565 51.23533 \nL 247.386945 47.087378 \nL 250.461325 44.674554 \nL 253.535705 40.921577 \nL 256.610085 38.110995 \nL 259.684465 35.640481 \nL 262.758846 33.603156 \nL 265.833226 32.381793 \nL 268.907606 30.974881 \nL 271.981986 30.200521 \nL 275.056366 30.077123 \nL 278.130746 29.215129 \nL 281.205127 29.76656 \nL 284.279507 30.196609 \nL 287.353887 30.670866 \nL 290.428267 31.357183 \nL 293.502647 32.422104 \nL 296.577027 34.019097 \nL 299.651408 37.301733 \nL 302.725788 37.933566 \nL 305.800168 40.385364 \nL 308.874548 41.809239 \nL 311.948928 44.819601 \nL 315.023308 46.433123 \nL 318.097689 49.468754 \nL 321.172069 51.532284 \nL 324.246449 55.62816 \nL 327.320829 58.697314 \nL 330.395209 61.631927 \nL 333.469589 64.849122 \nL 336.54397 68.347377 \nL 339.61835 71.56356 \nL 342.69273 75.988212 \nL 345.76711 77.762735 \nL 348.84149 81.253344 \nL 351.91587 83.759746 \nL 354.990251 88.750433 \nL 358.064631 90.682225 \n\" style=\"fill:none;stroke:#8c564b;stroke-linecap:square;stroke-opacity:0.3;stroke-width:1.5;\"/>\n   </g>\n   <g id=\"line2d_21\">\n    <path clip-path=\"url(#pc8f34b86e7)\" d=\"M 53.700994 134.086235 \nL 56.775374 134.649486 \nL 59.849755 142.048593 \nL 62.924135 145.46547 \nL 65.998515 146.911085 \nL 69.072895 149.959969 \nL 72.147275 152.377718 \nL 75.221655 156.296689 \nL 78.296036 158.967645 \nL 81.370416 162.600911 \nL 84.444796 166.28836 \nL 87.519176 168.950539 \nL 90.593556 171.33969 \nL 93.667936 173.931328 \nL 96.742317 176.245333 \nL 99.816697 178.936815 \nL 102.891077 181.590703 \nL 105.965457 185.699106 \nL 109.039837 186.84081 \nL 112.114217 188.433771 \nL 115.188598 190.395602 \nL 118.262978 192.634379 \nL 121.337358 192.838865 \nL 124.411738 195.635769 \nL 127.486118 196.936566 \nL 130.560498 198.263478 \nL 133.634879 198.381195 \nL 136.709259 198.811984 \nL 139.783639 197.883952 \nL 142.858019 197.166329 \nL 145.932399 197.34799 \nL 149.006779 197.650587 \nL 152.08116 195.645297 \nL 155.15554 193.803654 \nL 158.22992 192.46021 \nL 161.3043 189.896683 \nL 164.37868 187.112525 \nL 167.45306 183.474566 \nL 170.527441 180.865366 \nL 173.601821 176.275051 \nL 176.676201 172.607481 \nL 179.750581 169.441464 \nL 182.824961 166.789801 \nL 185.899341 157.628257 \nL 188.973722 155.016635 \nL 192.048102 147.618963 \nL 195.122482 142.082638 \nL 198.196862 136.340364 \nL 201.271242 131.410696 \nL 204.345622 124.401413 \nL 207.420003 118.390665 \nL 210.494383 111.533962 \nL 213.568763 105.056943 \nL 216.643143 99.037864 \nL 219.717523 92.160445 \nL 222.791903 86.479869 \nL 225.866284 80.875227 \nL 228.940664 75.274196 \nL 232.015044 69.189224 \nL 235.089424 64.646229 \nL 238.163804 60.020206 \nL 241.238184 55.713502 \nL 244.312565 50.821405 \nL 247.386945 47.416989 \nL 250.461325 44.439412 \nL 253.535705 41.352153 \nL 256.610085 37.156843 \nL 259.684465 35.784762 \nL 262.758846 33.69222 \nL 265.833226 32.946347 \nL 268.907606 30.749308 \nL 271.981986 29.998021 \nL 275.056366 29.435987 \nL 278.130746 29.244508 \nL 281.205127 29.965417 \nL 284.279507 29.791961 \nL 287.353887 30.867562 \nL 290.428267 30.627645 \nL 293.502647 32.81054 \nL 296.577027 34.750351 \nL 299.651408 35.397145 \nL 302.725788 38.976951 \nL 305.800168 39.558724 \nL 308.874548 42.886131 \nL 311.948928 45.032541 \nL 315.023308 46.185909 \nL 318.097689 49.528837 \nL 321.172069 51.873092 \nL 324.246449 55.235267 \nL 327.320829 58.926155 \nL 330.395209 61.831568 \nL 333.469589 64.783239 \nL 336.54397 68.094989 \nL 339.61835 72.216086 \nL 342.69273 73.93136 \nL 345.76711 78.374673 \nL 348.84149 81.599083 \nL 351.91587 86.873485 \nL 354.990251 89.162183 \nL 358.064631 93.096836 \n\" style=\"fill:none;stroke:#e377c2;stroke-linecap:square;stroke-opacity:0.3;stroke-width:1.5;\"/>\n   </g>\n   <g id=\"line2d_22\">\n    <path clip-path=\"url(#pc8f34b86e7)\" d=\"M 53.700994 130.020542 \nL 56.775374 133.222751 \nL 59.849755 135.756328 \nL 62.924135 140.624153 \nL 65.998515 144.707356 \nL 69.072895 148.618829 \nL 72.147275 152.52893 \nL 75.221655 156.291676 \nL 78.296036 159.660528 \nL 81.370416 161.214594 \nL 84.444796 165.582534 \nL 87.519176 167.76526 \nL 90.593556 170.467241 \nL 93.667936 174.999931 \nL 96.742317 177.573059 \nL 99.816697 178.747071 \nL 102.891077 180.794326 \nL 105.965457 184.467763 \nL 109.039837 186.282137 \nL 112.114217 188.363578 \nL 115.188598 191.526627 \nL 118.262978 194.172851 \nL 121.337358 193.250671 \nL 124.411738 195.079096 \nL 127.486118 195.776297 \nL 130.560498 197.451019 \nL 133.634879 200.701246 \nL 136.709259 198.974675 \nL 139.783639 198.533134 \nL 142.858019 198.13192 \nL 145.932399 198.276706 \nL 149.006779 197.07436 \nL 152.08116 194.956946 \nL 155.15554 193.876973 \nL 158.22992 192.119658 \nL 161.3043 189.846253 \nL 164.37868 186.356393 \nL 167.45306 184.881012 \nL 170.527441 179.747643 \nL 173.601821 176.304589 \nL 176.676201 174.502378 \nL 179.750581 168.224586 \nL 182.824961 164.597177 \nL 185.899341 157.920903 \nL 188.973722 153.465529 \nL 192.048102 147.263787 \nL 195.122482 144.865827 \nL 198.196862 136.067767 \nL 201.271242 130.820692 \nL 204.345622 125.614732 \nL 207.420003 117.957993 \nL 210.494383 112.416062 \nL 213.568763 104.725912 \nL 216.643143 99.50016 \nL 219.717523 92.850921 \nL 222.791903 86.849128 \nL 225.866284 80.701905 \nL 228.940664 74.369211 \nL 232.015044 69.572806 \nL 235.089424 64.169322 \nL 238.163804 58.632993 \nL 241.238184 56.514101 \nL 244.312565 51.546871 \nL 247.386945 47.500316 \nL 250.461325 43.860052 \nL 253.535705 40.793328 \nL 256.610085 37.602343 \nL 259.684465 35.684593 \nL 262.758846 34.152199 \nL 265.833226 33.050025 \nL 268.907606 30.858789 \nL 271.981986 29.680351 \nL 275.056366 29.622973 \nL 278.130746 29.960971 \nL 281.205127 30.000577 \nL 284.279507 29.65542 \nL 287.353887 31.155907 \nL 290.428267 32.094828 \nL 293.502647 32.412312 \nL 296.577027 34.564912 \nL 299.651408 34.456527 \nL 302.725788 37.222187 \nL 305.800168 40.745254 \nL 308.874548 43.586158 \nL 311.948928 44.219411 \nL 315.023308 45.944216 \nL 318.097689 49.765923 \nL 321.172069 52.912866 \nL 324.246449 55.411063 \nL 327.320829 58.715005 \nL 330.395209 61.672482 \nL 333.469589 64.796698 \nL 336.54397 67.704387 \nL 339.61835 71.869787 \nL 342.69273 74.357439 \nL 345.76711 78.640883 \nL 348.84149 83.996338 \nL 351.91587 85.181438 \nL 354.990251 87.781069 \nL 358.064631 87.2826 \n\" style=\"fill:none;stroke:#7f7f7f;stroke-linecap:square;stroke-opacity:0.3;stroke-width:1.5;\"/>\n   </g>\n   <g id=\"line2d_23\">\n    <path clip-path=\"url(#pc8f34b86e7)\" d=\"M 53.700994 132.654999 \nL 56.775374 138.282825 \nL 59.849755 139.102646 \nL 62.924135 140.433287 \nL 65.998515 145.749275 \nL 69.072895 149.877343 \nL 72.147275 151.683907 \nL 75.221655 155.51519 \nL 78.296036 158.61661 \nL 81.370416 162.334909 \nL 84.444796 165.666968 \nL 87.519176 168.672361 \nL 90.593556 171.849891 \nL 93.667936 174.300953 \nL 96.742317 176.679606 \nL 99.816697 179.542163 \nL 102.891077 182.160062 \nL 105.965457 187.151769 \nL 109.039837 186.676074 \nL 112.114217 186.426586 \nL 115.188598 187.47709 \nL 118.262978 192.159414 \nL 121.337358 193.303857 \nL 124.411738 196.912549 \nL 127.486118 198.143346 \nL 130.560498 196.55572 \nL 133.634879 199.982035 \nL 136.709259 198.119981 \nL 139.783639 198.620413 \nL 142.858019 197.332517 \nL 145.932399 196.774837 \nL 149.006779 195.943777 \nL 152.08116 195.368567 \nL 155.15554 193.712369 \nL 158.22992 191.318663 \nL 161.3043 190.052818 \nL 164.37868 187.120079 \nL 167.45306 184.425774 \nL 170.527441 179.467549 \nL 173.601821 177.44851 \nL 176.676201 170.312743 \nL 179.750581 168.24913 \nL 182.824961 164.518069 \nL 185.899341 157.668435 \nL 188.973722 152.802599 \nL 192.048102 147.188493 \nL 195.122482 140.459002 \nL 198.196862 135.357552 \nL 201.271242 130.921753 \nL 204.345622 124.578099 \nL 207.420003 117.479929 \nL 210.494383 111.817228 \nL 213.568763 105.655776 \nL 216.643143 98.346335 \nL 219.717523 92.526054 \nL 222.791903 86.459572 \nL 225.866284 80.81493 \nL 228.940664 75.792507 \nL 232.015044 69.883017 \nL 235.089424 65.049524 \nL 238.163804 59.364698 \nL 241.238184 54.376554 \nL 244.312565 51.707923 \nL 247.386945 48.035958 \nL 250.461325 43.96177 \nL 253.535705 40.354503 \nL 256.610085 37.95466 \nL 259.684465 35.231682 \nL 262.758846 34.097733 \nL 265.833226 32.176934 \nL 268.907606 31.212418 \nL 271.981986 29.722408 \nL 275.056366 29.674461 \nL 278.130746 29.221122 \nL 281.205127 29.318427 \nL 284.279507 29.735295 \nL 287.353887 31.251489 \nL 290.428267 31.110584 \nL 293.502647 33.842819 \nL 296.577027 34.096315 \nL 299.651408 35.302239 \nL 302.725788 38.724294 \nL 305.800168 39.18414 \nL 308.874548 41.395976 \nL 311.948928 44.083246 \nL 315.023308 46.254777 \nL 318.097689 50.574812 \nL 321.172069 52.481438 \nL 324.246449 55.043168 \nL 327.320829 58.692098 \nL 330.395209 61.513944 \nL 333.469589 64.82207 \nL 336.54397 68.279381 \nL 339.61835 71.402838 \nL 342.69273 74.64535 \nL 345.76711 78.377649 \nL 348.84149 82.288356 \nL 351.91587 87.66683 \nL 354.990251 88.948504 \nL 358.064631 92.013648 \n\" style=\"fill:none;stroke:#bcbd22;stroke-linecap:square;stroke-opacity:0.3;stroke-width:1.5;\"/>\n   </g>\n   <g id=\"line2d_24\">\n    <path clip-path=\"url(#pc8f34b86e7)\" d=\"M 53.700994 132.658505 \nL 56.775374 134.779474 \nL 59.849755 138.462105 \nL 62.924135 142.701008 \nL 65.998515 146.344219 \nL 69.072895 150.052321 \nL 72.147275 152.444289 \nL 75.221655 155.94538 \nL 78.296036 158.959525 \nL 81.370416 162.206099 \nL 84.444796 165.182754 \nL 87.519176 168.609508 \nL 90.593556 171.983506 \nL 93.667936 175.454801 \nL 96.742317 177.804537 \nL 99.816697 180.46012 \nL 102.891077 180.697546 \nL 105.965457 183.952952 \nL 109.039837 185.810983 \nL 112.114217 188.594455 \nL 115.188598 191.068803 \nL 118.262978 192.549168 \nL 121.337358 195.014444 \nL 124.411738 195.400026 \nL 127.486118 197.648131 \nL 130.560498 197.496 \nL 133.634879 197.6986 \nL 136.709259 196.69972 \nL 139.783639 198.146591 \nL 142.858019 197.713244 \nL 145.932399 197.583802 \nL 149.006779 196.402535 \nL 152.08116 195.262089 \nL 155.15554 194.388268 \nL 158.22992 191.420327 \nL 161.3043 189.469283 \nL 164.37868 187.343725 \nL 167.45306 183.79873 \nL 170.527441 180.391387 \nL 173.601821 177.186925 \nL 176.676201 173.046229 \nL 179.750581 168.384117 \nL 182.824961 163.259116 \nL 185.899341 162.600782 \nL 188.973722 153.125762 \nL 192.048102 148.027957 \nL 195.122482 143.037329 \nL 198.196862 136.721301 \nL 201.271242 131.859667 \nL 204.345622 124.450508 \nL 207.420003 117.476038 \nL 210.494383 111.121119 \nL 213.568763 104.604104 \nL 216.643143 98.261873 \nL 219.717523 92.519686 \nL 222.791903 86.917922 \nL 225.866284 80.736279 \nL 228.940664 74.734391 \nL 232.015044 69.690497 \nL 235.089424 63.536599 \nL 238.163804 60.33451 \nL 241.238184 56.490992 \nL 244.312565 51.268084 \nL 247.386945 47.317758 \nL 250.461325 44.649514 \nL 253.535705 40.465141 \nL 256.610085 38.491945 \nL 259.684465 36.108557 \nL 262.758846 34.057648 \nL 265.833226 31.99198 \nL 268.907606 31.287963 \nL 271.981986 30.059303 \nL 275.056366 29.247172 \nL 278.130746 29.02726 \nL 281.205127 29.11838 \nL 284.279507 28.893386 \nL 287.353887 29.857575 \nL 290.428267 30.789685 \nL 293.502647 31.915053 \nL 296.577027 34.831299 \nL 299.651408 36.506657 \nL 302.725788 38.409087 \nL 305.800168 38.774583 \nL 308.874548 41.297998 \nL 311.948928 44.750594 \nL 315.023308 47.380525 \nL 318.097689 48.470274 \nL 321.172069 53.219368 \nL 324.246449 55.873263 \nL 327.320829 58.19042 \nL 330.395209 61.647011 \nL 333.469589 64.993166 \nL 336.54397 67.832804 \nL 339.61835 71.810014 \nL 342.69273 75.330309 \nL 345.76711 78.182538 \nL 348.84149 80.960177 \nL 351.91587 83.458235 \nL 354.990251 87.576463 \nL 358.064631 95.525439 \n\" style=\"fill:none;stroke:#17becf;stroke-linecap:square;stroke-opacity:0.3;stroke-width:1.5;\"/>\n   </g>\n   <g id=\"line2d_25\">\n    <path clip-path=\"url(#pc8f34b86e7)\" d=\"M 53.700994 133.690107 \nL 56.775374 135.474659 \nL 59.849755 138.047995 \nL 62.924135 142.179063 \nL 65.998515 147.106721 \nL 69.072895 148.570126 \nL 72.147275 153.12481 \nL 75.221655 154.905456 \nL 78.296036 159.009101 \nL 81.370416 162.60369 \nL 84.444796 165.247617 \nL 87.519176 169.145727 \nL 90.593556 172.253273 \nL 93.667936 175.242564 \nL 96.742317 177.716846 \nL 99.816697 180.601001 \nL 102.891077 182.605766 \nL 105.965457 183.617209 \nL 109.039837 185.050683 \nL 112.114217 190.705434 \nL 115.188598 191.484999 \nL 118.262978 191.469447 \nL 121.337358 196.756487 \nL 124.411738 195.620016 \nL 127.486118 197.154829 \nL 130.560498 197.743161 \nL 133.634879 197.639263 \nL 136.709259 198.197438 \nL 139.783639 198.296799 \nL 142.858019 198.739101 \nL 145.932399 198.327187 \nL 149.006779 195.749361 \nL 152.08116 195.527402 \nL 155.15554 194.09016 \nL 158.22992 192.026455 \nL 161.3043 189.078186 \nL 164.37868 187.417838 \nL 167.45306 184.282717 \nL 170.527441 180.537856 \nL 173.601821 176.496274 \nL 176.676201 171.850366 \nL 179.750581 168.175324 \nL 182.824961 165.355274 \nL 185.899341 159.476645 \nL 188.973722 153.190509 \nL 192.048102 147.365873 \nL 195.122482 141.90487 \nL 198.196862 136.004328 \nL 201.271242 129.75483 \nL 204.345622 124.499096 \nL 207.420003 117.729993 \nL 210.494383 112.62182 \nL 213.568763 104.958068 \nL 216.643143 99.050646 \nL 219.717523 93.035146 \nL 222.791903 86.76954 \nL 225.866284 80.616504 \nL 228.940664 75.098916 \nL 232.015044 68.892747 \nL 235.089424 64.484501 \nL 238.163804 59.772161 \nL 241.238184 55.226908 \nL 244.312565 51.165233 \nL 247.386945 46.268473 \nL 250.461325 42.590784 \nL 253.535705 41.02222 \nL 256.610085 37.24872 \nL 259.684465 35.64779 \nL 262.758846 34.503799 \nL 265.833226 32.69926 \nL 268.907606 30.78531 \nL 271.981986 29.898481 \nL 275.056366 29.541725 \nL 278.130746 29.464749 \nL 281.205127 29.624606 \nL 284.279507 30.334027 \nL 287.353887 30.03972 \nL 290.428267 31.301939 \nL 293.502647 32.660876 \nL 296.577027 32.544059 \nL 299.651408 36.352505 \nL 302.725788 36.843343 \nL 305.800168 39.547719 \nL 308.874548 42.556138 \nL 311.948928 43.234562 \nL 315.023308 47.212414 \nL 318.097689 50.218706 \nL 321.172069 53.21486 \nL 324.246449 55.359973 \nL 327.320829 58.686298 \nL 330.395209 61.6646 \nL 333.469589 64.934427 \nL 336.54397 68.192451 \nL 339.61835 71.18126 \nL 342.69273 75.856951 \nL 345.76711 78.694956 \nL 348.84149 80.007428 \nL 351.91587 85.454485 \nL 354.990251 89.65968 \nL 358.064631 93.43061 \n\" style=\"fill:none;stroke:#1f77b4;stroke-linecap:square;stroke-opacity:0.3;stroke-width:1.5;\"/>\n   </g>\n   <g id=\"line2d_26\">\n    <path clip-path=\"url(#pc8f34b86e7)\" d=\"M 53.700994 117.372517 \nL 56.775374 127.979687 \nL 59.849755 133.940903 \nL 62.924135 119.835914 \nL 65.998515 145.919157 \nL 69.072895 155.638622 \nL 72.147275 157.868256 \nL 75.221655 161.102918 \nL 78.296036 153.099341 \nL 81.370416 159.912778 \nL 84.444796 187.320689 \nL 87.519176 178.208195 \nL 90.593556 183.718607 \nL 93.667936 181.157731 \nL 96.742317 183.731561 \nL 99.816697 208.267761 \nL 102.891077 204.739976 \nL 105.965457 194.936081 \nL 109.039837 211.218561 \nL 112.114217 200.081927 \nL 115.188598 197.469038 \nL 118.262978 200.555191 \nL 121.337358 210.312955 \nL 124.411738 207.71158 \nL 127.486118 214.756364 \nL 130.560498 209.105207 \nL 133.634879 203.743407 \nL 136.709259 194.346195 \nL 139.783639 191.101097 \nL 142.858019 196.025758 \nL 145.932399 193.393698 \nL 149.006779 200.664623 \nL 152.08116 182.159148 \nL 155.15554 201.353356 \nL 158.22992 194.568697 \nL 161.3043 182.943736 \nL 164.37868 178.131883 \nL 167.45306 175.275131 \nL 170.527441 181.127998 \nL 173.601821 170.894876 \nL 176.676201 156.245387 \nL 179.750581 168.390119 \nL 182.824961 170.695153 \nL 185.899341 148.265971 \nL 188.973722 138.281872 \nL 192.048102 138.368217 \nL 195.122482 132.536066 \nL 198.196862 140.046473 \nL 201.271242 118.191896 \nL 204.345622 116.287152 \nL 207.420003 110.360448 \nL 210.494383 127.607593 \nL 213.568763 92.742669 \nL 216.643143 102.765565 \nL 219.717523 95.749108 \nL 222.791903 71.220757 \nL 225.866284 82.661178 \nL 228.940664 86.939369 \nL 232.015044 73.877557 \nL 235.089424 66.236269 \nL 238.163804 58.969685 \nL 241.238184 59.309367 \nL 244.312565 61.828896 \nL 247.386945 56.721225 \nL 250.461325 50.108678 \nL 253.535705 34.754732 \nL 256.610085 26.061091 \nL 259.684465 24.201908 \nL 262.758846 30.044223 \nL 265.833226 31.756169 \nL 268.907606 38.515499 \nL 271.981986 28.411457 \nL 275.056366 21.807591 \nL 278.130746 29.224731 \nL 281.205127 29.027969 \nL 284.279507 20.514086 \nL 287.353887 26.817614 \nL 290.428267 17.083636 \nL 293.502647 28.924635 \nL 296.577027 26.203755 \nL 299.651408 37.390233 \nL 302.725788 34.301572 \nL 305.800168 34.076853 \nL 308.874548 24.581038 \nL 311.948928 58.86218 \nL 315.023308 44.399722 \nL 318.097689 42.091705 \nL 321.172069 44.714939 \nL 324.246449 49.670875 \nL 327.320829 55.391291 \nL 330.395209 70.641219 \nL 333.469589 47.866565 \nL 336.54397 74.794663 \nL 339.61835 86.381906 \nL 342.69273 75.762142 \nL 345.76711 90.921075 \nL 348.84149 99.763937 \nL 351.91587 97.350366 \nL 354.990251 110.765223 \nL 358.064631 99.245741 \n\" style=\"fill:none;stroke:#ff7f0e;stroke-linecap:square;stroke-width:1.5;\"/>\n   </g>\n   <g id=\"patch_3\">\n    <path d=\"M 38.482813 224.64 \nL 38.482813 7.2 \n\" style=\"fill:none;stroke:#000000;stroke-linecap:square;stroke-linejoin:miter;stroke-width:0.8;\"/>\n   </g>\n   <g id=\"patch_4\">\n    <path d=\"M 373.282813 224.64 \nL 373.282813 7.2 \n\" style=\"fill:none;stroke:#000000;stroke-linecap:square;stroke-linejoin:miter;stroke-width:0.8;\"/>\n   </g>\n   <g id=\"patch_5\">\n    <path d=\"M 38.482812 224.64 \nL 373.282812 224.64 \n\" style=\"fill:none;stroke:#000000;stroke-linecap:square;stroke-linejoin:miter;stroke-width:0.8;\"/>\n   </g>\n   <g id=\"patch_6\">\n    <path d=\"M 38.482812 7.2 \nL 373.282812 7.2 \n\" style=\"fill:none;stroke:#000000;stroke-linecap:square;stroke-linejoin:miter;stroke-width:0.8;\"/>\n   </g>\n   <g id=\"legend_1\">\n    <g id=\"patch_7\">\n     <path d=\"M 45.482813 44.55625 \nL 206.470313 44.55625 \nQ 208.470313 44.55625 208.470313 42.55625 \nL 208.470313 14.2 \nQ 208.470313 12.2 206.470313 12.2 \nL 45.482813 12.2 \nQ 43.482813 12.2 43.482813 14.2 \nL 43.482813 42.55625 \nQ 43.482813 44.55625 45.482813 44.55625 \nz\n\" style=\"fill:#ffffff;opacity:0.8;stroke:#cccccc;stroke-linejoin:miter;\"/>\n    </g>\n    <g id=\"line2d_27\">\n     <path d=\"M 47.482813 20.298437 \nL 67.482812 20.298437 \n\" style=\"fill:none;stroke:#1f77b4;stroke-linecap:square;stroke-width:1.5;\"/>\n    </g>\n    <g id=\"line2d_28\"/>\n    <g id=\"text_15\">\n     <!-- prediction of linear model -->\n     <defs>\n      <path d=\"M 18.109375 8.203125 \nL 18.109375 -20.796875 \nL 9.078125 -20.796875 \nL 9.078125 54.6875 \nL 18.109375 54.6875 \nL 18.109375 46.390625 \nQ 20.953125 51.265625 25.265625 53.625 \nQ 29.59375 56 35.59375 56 \nQ 45.5625 56 51.78125 48.09375 \nQ 58.015625 40.1875 58.015625 27.296875 \nQ 58.015625 14.40625 51.78125 6.484375 \nQ 45.5625 -1.421875 35.59375 -1.421875 \nQ 29.59375 -1.421875 25.265625 0.953125 \nQ 20.953125 3.328125 18.109375 8.203125 \nz\nM 48.6875 27.296875 \nQ 48.6875 37.203125 44.609375 42.84375 \nQ 40.53125 48.484375 33.40625 48.484375 \nQ 26.265625 48.484375 22.1875 42.84375 \nQ 18.109375 37.203125 18.109375 27.296875 \nQ 18.109375 17.390625 22.1875 11.75 \nQ 26.265625 6.109375 33.40625 6.109375 \nQ 40.53125 6.109375 44.609375 11.75 \nQ 48.6875 17.390625 48.6875 27.296875 \nz\n\" id=\"DejaVuSans-112\"/>\n      <path d=\"M 41.109375 46.296875 \nQ 39.59375 47.171875 37.8125 47.578125 \nQ 36.03125 48 33.890625 48 \nQ 26.265625 48 22.1875 43.046875 \nQ 18.109375 38.09375 18.109375 28.8125 \nL 18.109375 0 \nL 9.078125 0 \nL 9.078125 54.6875 \nL 18.109375 54.6875 \nL 18.109375 46.1875 \nQ 20.953125 51.171875 25.484375 53.578125 \nQ 30.03125 56 36.53125 56 \nQ 37.453125 56 38.578125 55.875 \nQ 39.703125 55.765625 41.0625 55.515625 \nz\n\" id=\"DejaVuSans-114\"/>\n      <path d=\"M 56.203125 29.59375 \nL 56.203125 25.203125 \nL 14.890625 25.203125 \nQ 15.484375 15.921875 20.484375 11.0625 \nQ 25.484375 6.203125 34.421875 6.203125 \nQ 39.59375 6.203125 44.453125 7.46875 \nQ 49.3125 8.734375 54.109375 11.28125 \nL 54.109375 2.78125 \nQ 49.265625 0.734375 44.1875 -0.34375 \nQ 39.109375 -1.421875 33.890625 -1.421875 \nQ 20.796875 -1.421875 13.15625 6.1875 \nQ 5.515625 13.8125 5.515625 26.8125 \nQ 5.515625 40.234375 12.765625 48.109375 \nQ 20.015625 56 32.328125 56 \nQ 43.359375 56 49.78125 48.890625 \nQ 56.203125 41.796875 56.203125 29.59375 \nz\nM 47.21875 32.234375 \nQ 47.125 39.59375 43.09375 43.984375 \nQ 39.0625 48.390625 32.421875 48.390625 \nQ 24.90625 48.390625 20.390625 44.140625 \nQ 15.875 39.890625 15.1875 32.171875 \nz\n\" id=\"DejaVuSans-101\"/>\n      <path d=\"M 45.40625 46.390625 \nL 45.40625 75.984375 \nL 54.390625 75.984375 \nL 54.390625 0 \nL 45.40625 0 \nL 45.40625 8.203125 \nQ 42.578125 3.328125 38.25 0.953125 \nQ 33.9375 -1.421875 27.875 -1.421875 \nQ 17.96875 -1.421875 11.734375 6.484375 \nQ 5.515625 14.40625 5.515625 27.296875 \nQ 5.515625 40.1875 11.734375 48.09375 \nQ 17.96875 56 27.875 56 \nQ 33.9375 56 38.25 53.625 \nQ 42.578125 51.265625 45.40625 46.390625 \nz\nM 14.796875 27.296875 \nQ 14.796875 17.390625 18.875 11.75 \nQ 22.953125 6.109375 30.078125 6.109375 \nQ 37.203125 6.109375 41.296875 11.75 \nQ 45.40625 17.390625 45.40625 27.296875 \nQ 45.40625 37.203125 41.296875 42.84375 \nQ 37.203125 48.484375 30.078125 48.484375 \nQ 22.953125 48.484375 18.875 42.84375 \nQ 14.796875 37.203125 14.796875 27.296875 \nz\n\" id=\"DejaVuSans-100\"/>\n      <path d=\"M 9.421875 54.6875 \nL 18.40625 54.6875 \nL 18.40625 0 \nL 9.421875 0 \nz\nM 9.421875 75.984375 \nL 18.40625 75.984375 \nL 18.40625 64.59375 \nL 9.421875 64.59375 \nz\n\" id=\"DejaVuSans-105\"/>\n      <path d=\"M 48.78125 52.59375 \nL 48.78125 44.1875 \nQ 44.96875 46.296875 41.140625 47.34375 \nQ 37.3125 48.390625 33.40625 48.390625 \nQ 24.65625 48.390625 19.8125 42.84375 \nQ 14.984375 37.3125 14.984375 27.296875 \nQ 14.984375 17.28125 19.8125 11.734375 \nQ 24.65625 6.203125 33.40625 6.203125 \nQ 37.3125 6.203125 41.140625 7.25 \nQ 44.96875 8.296875 48.78125 10.40625 \nL 48.78125 2.09375 \nQ 45.015625 0.34375 40.984375 -0.53125 \nQ 36.96875 -1.421875 32.421875 -1.421875 \nQ 20.0625 -1.421875 12.78125 6.34375 \nQ 5.515625 14.109375 5.515625 27.296875 \nQ 5.515625 40.671875 12.859375 48.328125 \nQ 20.21875 56 33.015625 56 \nQ 37.15625 56 41.109375 55.140625 \nQ 45.0625 54.296875 48.78125 52.59375 \nz\n\" id=\"DejaVuSans-99\"/>\n      <path d=\"M 18.3125 70.21875 \nL 18.3125 54.6875 \nL 36.8125 54.6875 \nL 36.8125 47.703125 \nL 18.3125 47.703125 \nL 18.3125 18.015625 \nQ 18.3125 11.328125 20.140625 9.421875 \nQ 21.96875 7.515625 27.59375 7.515625 \nL 36.8125 7.515625 \nL 36.8125 0 \nL 27.59375 0 \nQ 17.1875 0 13.234375 3.875 \nQ 9.28125 7.765625 9.28125 18.015625 \nL 9.28125 47.703125 \nL 2.6875 47.703125 \nL 2.6875 54.6875 \nL 9.28125 54.6875 \nL 9.28125 70.21875 \nz\n\" id=\"DejaVuSans-116\"/>\n      <path d=\"M 30.609375 48.390625 \nQ 23.390625 48.390625 19.1875 42.75 \nQ 14.984375 37.109375 14.984375 27.296875 \nQ 14.984375 17.484375 19.15625 11.84375 \nQ 23.34375 6.203125 30.609375 6.203125 \nQ 37.796875 6.203125 41.984375 11.859375 \nQ 46.1875 17.53125 46.1875 27.296875 \nQ 46.1875 37.015625 41.984375 42.703125 \nQ 37.796875 48.390625 30.609375 48.390625 \nz\nM 30.609375 56 \nQ 42.328125 56 49.015625 48.375 \nQ 55.71875 40.765625 55.71875 27.296875 \nQ 55.71875 13.875 49.015625 6.21875 \nQ 42.328125 -1.421875 30.609375 -1.421875 \nQ 18.84375 -1.421875 12.171875 6.21875 \nQ 5.515625 13.875 5.515625 27.296875 \nQ 5.515625 40.765625 12.171875 48.375 \nQ 18.84375 56 30.609375 56 \nz\n\" id=\"DejaVuSans-111\"/>\n      <path d=\"M 54.890625 33.015625 \nL 54.890625 0 \nL 45.90625 0 \nL 45.90625 32.71875 \nQ 45.90625 40.484375 42.875 44.328125 \nQ 39.84375 48.1875 33.796875 48.1875 \nQ 26.515625 48.1875 22.3125 43.546875 \nQ 18.109375 38.921875 18.109375 30.90625 \nL 18.109375 0 \nL 9.078125 0 \nL 9.078125 54.6875 \nL 18.109375 54.6875 \nL 18.109375 46.1875 \nQ 21.34375 51.125 25.703125 53.5625 \nQ 30.078125 56 35.796875 56 \nQ 45.21875 56 50.046875 50.171875 \nQ 54.890625 44.34375 54.890625 33.015625 \nz\n\" id=\"DejaVuSans-110\"/>\n      <path id=\"DejaVuSans-32\"/>\n      <path d=\"M 37.109375 75.984375 \nL 37.109375 68.5 \nL 28.515625 68.5 \nQ 23.6875 68.5 21.796875 66.546875 \nQ 19.921875 64.59375 19.921875 59.515625 \nL 19.921875 54.6875 \nL 34.71875 54.6875 \nL 34.71875 47.703125 \nL 19.921875 47.703125 \nL 19.921875 0 \nL 10.890625 0 \nL 10.890625 47.703125 \nL 2.296875 47.703125 \nL 2.296875 54.6875 \nL 10.890625 54.6875 \nL 10.890625 58.5 \nQ 10.890625 67.625 15.140625 71.796875 \nQ 19.390625 75.984375 28.609375 75.984375 \nz\n\" id=\"DejaVuSans-102\"/>\n      <path d=\"M 9.421875 75.984375 \nL 18.40625 75.984375 \nL 18.40625 0 \nL 9.421875 0 \nz\n\" id=\"DejaVuSans-108\"/>\n      <path d=\"M 34.28125 27.484375 \nQ 23.390625 27.484375 19.1875 25 \nQ 14.984375 22.515625 14.984375 16.5 \nQ 14.984375 11.71875 18.140625 8.90625 \nQ 21.296875 6.109375 26.703125 6.109375 \nQ 34.1875 6.109375 38.703125 11.40625 \nQ 43.21875 16.703125 43.21875 25.484375 \nL 43.21875 27.484375 \nz\nM 52.203125 31.203125 \nL 52.203125 0 \nL 43.21875 0 \nL 43.21875 8.296875 \nQ 40.140625 3.328125 35.546875 0.953125 \nQ 30.953125 -1.421875 24.3125 -1.421875 \nQ 15.921875 -1.421875 10.953125 3.296875 \nQ 6 8.015625 6 15.921875 \nQ 6 25.140625 12.171875 29.828125 \nQ 18.359375 34.515625 30.609375 34.515625 \nL 43.21875 34.515625 \nL 43.21875 35.40625 \nQ 43.21875 41.609375 39.140625 45 \nQ 35.0625 48.390625 27.6875 48.390625 \nQ 23 48.390625 18.546875 47.265625 \nQ 14.109375 46.140625 10.015625 43.890625 \nL 10.015625 52.203125 \nQ 14.9375 54.109375 19.578125 55.046875 \nQ 24.21875 56 28.609375 56 \nQ 40.484375 56 46.34375 49.84375 \nQ 52.203125 43.703125 52.203125 31.203125 \nz\n\" id=\"DejaVuSans-97\"/>\n      <path d=\"M 52 44.1875 \nQ 55.375 50.25 60.0625 53.125 \nQ 64.75 56 71.09375 56 \nQ 79.640625 56 84.28125 50.015625 \nQ 88.921875 44.046875 88.921875 33.015625 \nL 88.921875 0 \nL 79.890625 0 \nL 79.890625 32.71875 \nQ 79.890625 40.578125 77.09375 44.375 \nQ 74.3125 48.1875 68.609375 48.1875 \nQ 61.625 48.1875 57.5625 43.546875 \nQ 53.515625 38.921875 53.515625 30.90625 \nL 53.515625 0 \nL 44.484375 0 \nL 44.484375 32.71875 \nQ 44.484375 40.625 41.703125 44.40625 \nQ 38.921875 48.1875 33.109375 48.1875 \nQ 26.21875 48.1875 22.15625 43.53125 \nQ 18.109375 38.875 18.109375 30.90625 \nL 18.109375 0 \nL 9.078125 0 \nL 9.078125 54.6875 \nL 18.109375 54.6875 \nL 18.109375 46.1875 \nQ 21.1875 51.21875 25.484375 53.609375 \nQ 29.78125 56 35.6875 56 \nQ 41.65625 56 45.828125 52.96875 \nQ 50 49.953125 52 44.1875 \nz\n\" id=\"DejaVuSans-109\"/>\n     </defs>\n     <g transform=\"translate(75.482812 23.798437)scale(0.1 -0.1)\">\n      <use xlink:href=\"#DejaVuSans-112\"/>\n      <use x=\"63.476562\" xlink:href=\"#DejaVuSans-114\"/>\n      <use x=\"104.558594\" xlink:href=\"#DejaVuSans-101\"/>\n      <use x=\"166.082031\" xlink:href=\"#DejaVuSans-100\"/>\n      <use x=\"229.558594\" xlink:href=\"#DejaVuSans-105\"/>\n      <use x=\"257.341797\" xlink:href=\"#DejaVuSans-99\"/>\n      <use x=\"312.322266\" xlink:href=\"#DejaVuSans-116\"/>\n      <use x=\"351.53125\" xlink:href=\"#DejaVuSans-105\"/>\n      <use x=\"379.314453\" xlink:href=\"#DejaVuSans-111\"/>\n      <use x=\"440.496094\" xlink:href=\"#DejaVuSans-110\"/>\n      <use x=\"503.875\" xlink:href=\"#DejaVuSans-32\"/>\n      <use x=\"535.662109\" xlink:href=\"#DejaVuSans-111\"/>\n      <use x=\"596.84375\" xlink:href=\"#DejaVuSans-102\"/>\n      <use x=\"632.048828\" xlink:href=\"#DejaVuSans-32\"/>\n      <use x=\"663.835938\" xlink:href=\"#DejaVuSans-108\"/>\n      <use x=\"691.619141\" xlink:href=\"#DejaVuSans-105\"/>\n      <use x=\"719.402344\" xlink:href=\"#DejaVuSans-110\"/>\n      <use x=\"782.78125\" xlink:href=\"#DejaVuSans-101\"/>\n      <use x=\"844.304688\" xlink:href=\"#DejaVuSans-97\"/>\n      <use x=\"905.583984\" xlink:href=\"#DejaVuSans-114\"/>\n      <use x=\"946.697266\" xlink:href=\"#DejaVuSans-32\"/>\n      <use x=\"978.484375\" xlink:href=\"#DejaVuSans-109\"/>\n      <use x=\"1075.896484\" xlink:href=\"#DejaVuSans-111\"/>\n      <use x=\"1137.078125\" xlink:href=\"#DejaVuSans-100\"/>\n      <use x=\"1200.554688\" xlink:href=\"#DejaVuSans-101\"/>\n      <use x=\"1262.078125\" xlink:href=\"#DejaVuSans-108\"/>\n     </g>\n    </g>\n    <g id=\"line2d_29\">\n     <path d=\"M 47.482813 34.976562 \nL 67.482812 34.976562 \n\" style=\"fill:none;stroke:#ff7f0e;stroke-linecap:square;stroke-width:1.5;\"/>\n    </g>\n    <g id=\"line2d_30\"/>\n    <g id=\"text_16\">\n     <!-- truth -->\n     <defs>\n      <path d=\"M 8.5 21.578125 \nL 8.5 54.6875 \nL 17.484375 54.6875 \nL 17.484375 21.921875 \nQ 17.484375 14.15625 20.5 10.265625 \nQ 23.53125 6.390625 29.59375 6.390625 \nQ 36.859375 6.390625 41.078125 11.03125 \nQ 45.3125 15.671875 45.3125 23.6875 \nL 45.3125 54.6875 \nL 54.296875 54.6875 \nL 54.296875 0 \nL 45.3125 0 \nL 45.3125 8.40625 \nQ 42.046875 3.421875 37.71875 1 \nQ 33.40625 -1.421875 27.6875 -1.421875 \nQ 18.265625 -1.421875 13.375 4.4375 \nQ 8.5 10.296875 8.5 21.578125 \nz\nM 31.109375 56 \nz\n\" id=\"DejaVuSans-117\"/>\n      <path d=\"M 54.890625 33.015625 \nL 54.890625 0 \nL 45.90625 0 \nL 45.90625 32.71875 \nQ 45.90625 40.484375 42.875 44.328125 \nQ 39.84375 48.1875 33.796875 48.1875 \nQ 26.515625 48.1875 22.3125 43.546875 \nQ 18.109375 38.921875 18.109375 30.90625 \nL 18.109375 0 \nL 9.078125 0 \nL 9.078125 75.984375 \nL 18.109375 75.984375 \nL 18.109375 46.1875 \nQ 21.34375 51.125 25.703125 53.5625 \nQ 30.078125 56 35.796875 56 \nQ 45.21875 56 50.046875 50.171875 \nQ 54.890625 44.34375 54.890625 33.015625 \nz\n\" id=\"DejaVuSans-104\"/>\n     </defs>\n     <g transform=\"translate(75.482812 38.476562)scale(0.1 -0.1)\">\n      <use xlink:href=\"#DejaVuSans-116\"/>\n      <use x=\"39.208984\" xlink:href=\"#DejaVuSans-114\"/>\n      <use x=\"80.322266\" xlink:href=\"#DejaVuSans-117\"/>\n      <use x=\"143.701172\" xlink:href=\"#DejaVuSans-116\"/>\n      <use x=\"182.910156\" xlink:href=\"#DejaVuSans-104\"/>\n     </g>\n    </g>\n   </g>\n  </g>\n </g>\n <defs>\n  <clipPath id=\"pc8f34b86e7\">\n   <rect height=\"217.44\" width=\"334.8\" x=\"38.482813\" y=\"7.2\"/>\n  </clipPath>\n </defs>\n</svg>\n",
      "image/png": "[encoded data removed]"
     },
     "metadata": {
      "needs_background": "light"
     }
    }
   ],
   "source": [
    "num_predictive_samples = 10\n",
    "\n",
    "predictive_sample_list = []\n",
    "\n",
    "for i in range(num_predictive_samples):\n",
    "    predictive_sample_list += [NNRE.predict(X).rvs()]\n",
    "\n",
    "\n",
    "pred_mean = NNRE.predict(X).mean()\n",
    "pred_std = NNRE.predict(X).std()\n",
    "\n",
    "mean_prediction_cost = model.cost(y,pred_mean)\n",
    "\n",
    "print(f'ensemble prediction cost: {mean_prediction_cost}')\n",
    "\n",
    "\n",
    "plt.plot(X.squeeze(),pred_mean.squeeze(),label='prediction of linear model')\n",
    "plt.fill_between(X.squeeze(), pred_mean.squeeze(), pred_mean.squeeze() - pred_std.squeeze(), alpha = 0.3,color='blue')\n",
    "plt.fill_between(X.squeeze(), pred_mean.squeeze(), pred_mean.squeeze() + pred_std.squeeze(), alpha = 0.3,color='blue')\n",
    "\n",
    "for sample in predictive_sample_list:\n",
    "    plt.plot(X.squeeze(), sample,alpha=0.3)\n",
    "\n",
    "plt.plot(X.squeeze(),y.squeeze(),label='truth')\n",
    "plt.legend()"
   ]
  },
  {
   "cell_type": "code",
   "execution_count": 50,
   "metadata": {},
   "outputs": [
    {
     "output_type": "execute_result",
     "data": {
      "text/plain": "(1, 100)"
     },
     "metadata": {},
     "execution_count": 50
    }
   ],
   "source": [
    "pred_mean.shape"
   ]
  },
  {
   "cell_type": "code",
   "execution_count": 53,
   "metadata": {},
   "outputs": [
    {
     "output_type": "execute_result",
     "data": {
      "text/plain": "array([[-3.81561176]])"
     },
     "metadata": {},
     "execution_count": 53
    }
   ],
   "source": [
    "A"
   ]
  },
  {
   "cell_type": "code",
   "execution_count": 55,
   "metadata": {},
   "outputs": [
    {
     "output_type": "execute_result",
     "data": {
      "text/plain": "((1, 30), (2, 1))"
     },
     "metadata": {},
     "execution_count": 55
    }
   ],
   "source": [
    "X_train.shape, np.atleast_2d([1,1]).T.shape"
   ]
  },
  {
   "cell_type": "code",
   "execution_count": 57,
   "metadata": {},
   "outputs": [
    {
     "output_type": "execute_result",
     "data": {
      "text/plain": "(1, 100)"
     },
     "metadata": {},
     "execution_count": 57
    }
   ],
   "source": [
    "X.shape"
   ]
  },
  {
   "cell_type": "code",
   "execution_count": 59,
   "metadata": {},
   "outputs": [
    {
     "output_type": "execute_result",
     "data": {
      "text/plain": "(1, 30)"
     },
     "metadata": {},
     "execution_count": 59
    }
   ],
   "source": [
    "X_train.shape"
   ]
  },
  {
   "cell_type": "code",
   "execution_count": 60,
   "metadata": {
    "tags": []
   },
   "outputs": [
    {
     "output_type": "stream",
     "name": "stdout",
     "text": "Converted 00_core.ipynb.\nConverted 01_thompson_sampler.ipynb.\nConverted 02_neural_networks.ipynb.\nConverted index.ipynb.\n"
    }
   ],
   "source": [
    "from nbdev.export import *\n",
    "notebook2script()"
   ]
  },
  {
   "cell_type": "markdown",
   "metadata": {},
   "source": [
    "\n",
    "\n"
   ]
  }
 ],
 "metadata": {
  "language_info": {
   "codemirror_mode": {
    "name": "ipython",
    "version": 3
   },
   "file_extension": ".py",
   "mimetype": "text/x-python",
   "name": "python",
   "nbconvert_exporter": "python",
   "pygments_lexer": "ipython3",
   "version": "3.7.6-final"
  },
  "orig_nbformat": 2,
  "kernelspec": {
   "name": "python37664bitpytorchgpucondaa7ed58ace575493c8ac18c463551a9c6",
   "display_name": "Python 3.7.6 64-bit ('pytorch_GPU': conda)"
  }
 },
 "nbformat": 4,
 "nbformat_minor": 2
}